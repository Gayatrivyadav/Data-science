{
 "cells": [
  {
   "cell_type": "markdown",
   "id": "8d559ef2",
   "metadata": {},
   "source": [
    "## Import dataset and libraries"
   ]
  },
  {
   "cell_type": "code",
   "execution_count": 1,
   "id": "cd2c071b",
   "metadata": {},
   "outputs": [],
   "source": [
    "import pandas as pd\n",
    "import seaborn as sns\n",
    "import matplotlib.pyplot as plt\n",
    "from sklearn.model_selection import train_test_split\n",
    "from sklearn.metrics import confusion_matrix"
   ]
  },
  {
   "cell_type": "code",
   "execution_count": 5,
   "id": "8e82649b",
   "metadata": {},
   "outputs": [
    {
     "data": {
      "text/html": [
       "<div>\n",
       "<style scoped>\n",
       "    .dataframe tbody tr th:only-of-type {\n",
       "        vertical-align: middle;\n",
       "    }\n",
       "\n",
       "    .dataframe tbody tr th {\n",
       "        vertical-align: top;\n",
       "    }\n",
       "\n",
       "    .dataframe thead th {\n",
       "        text-align: right;\n",
       "    }\n",
       "</style>\n",
       "<table border=\"1\" class=\"dataframe\">\n",
       "  <thead>\n",
       "    <tr style=\"text-align: right;\">\n",
       "      <th></th>\n",
       "      <th>Name</th>\n",
       "      <th>year</th>\n",
       "      <th>selling_price</th>\n",
       "      <th>km_driven</th>\n",
       "      <th>fuel</th>\n",
       "      <th>seller_type</th>\n",
       "      <th>transmission</th>\n",
       "      <th>owner</th>\n",
       "      <th>mileage</th>\n",
       "      <th>engine</th>\n",
       "      <th>max_power</th>\n",
       "      <th>torque</th>\n",
       "      <th>seats</th>\n",
       "    </tr>\n",
       "  </thead>\n",
       "  <tbody>\n",
       "    <tr>\n",
       "      <th>0</th>\n",
       "      <td>Maruti Alto 800 LXI Opt</td>\n",
       "      <td>2023</td>\n",
       "      <td>410000</td>\n",
       "      <td>10000</td>\n",
       "      <td>Petrol</td>\n",
       "      <td>Individual</td>\n",
       "      <td>Manual</td>\n",
       "      <td>First Owner</td>\n",
       "      <td>19.03 kmpl</td>\n",
       "      <td>999 CC</td>\n",
       "      <td>71.01bhp</td>\n",
       "      <td>96Nm</td>\n",
       "      <td>5.0</td>\n",
       "    </tr>\n",
       "    <tr>\n",
       "      <th>1</th>\n",
       "      <td>Skoda Slavia 1.0 TSI Ambition</td>\n",
       "      <td>2023</td>\n",
       "      <td>1350000</td>\n",
       "      <td>10000</td>\n",
       "      <td>Petrol</td>\n",
       "      <td>Individual</td>\n",
       "      <td>Manual</td>\n",
       "      <td>First Owner</td>\n",
       "      <td>14.08 kmpl</td>\n",
       "      <td>1956 CC</td>\n",
       "      <td>167.67bhp</td>\n",
       "      <td>350nm</td>\n",
       "      <td>5.0</td>\n",
       "    </tr>\n",
       "    <tr>\n",
       "      <th>2</th>\n",
       "      <td>BMW 3 Series Gran Limousine 320Ld Luxury Line</td>\n",
       "      <td>2023</td>\n",
       "      <td>5800000</td>\n",
       "      <td>1000</td>\n",
       "      <td>Diesel</td>\n",
       "      <td>Dealer</td>\n",
       "      <td>Automatic</td>\n",
       "      <td>First Owner</td>\n",
       "      <td>18.15 kmpl</td>\n",
       "      <td>998 CC</td>\n",
       "      <td>118.35bhp</td>\n",
       "      <td>172Nm</td>\n",
       "      <td>5.0</td>\n",
       "    </tr>\n",
       "    <tr>\n",
       "      <th>3</th>\n",
       "      <td>MG ZS EV Exclusive</td>\n",
       "      <td>2023</td>\n",
       "      <td>2650000</td>\n",
       "      <td>10000</td>\n",
       "      <td>Electric</td>\n",
       "      <td>Dealer</td>\n",
       "      <td>Automatic</td>\n",
       "      <td>First Owner</td>\n",
       "      <td>32.52 kmpl</td>\n",
       "      <td>998 CC</td>\n",
       "      <td>58.33bhp</td>\n",
       "      <td>78Nm</td>\n",
       "      <td>5.0</td>\n",
       "    </tr>\n",
       "    <tr>\n",
       "      <th>4</th>\n",
       "      <td>Tata Punch Adventure</td>\n",
       "      <td>2023</td>\n",
       "      <td>715000</td>\n",
       "      <td>10000</td>\n",
       "      <td>Petrol</td>\n",
       "      <td>Individual</td>\n",
       "      <td>Manual</td>\n",
       "      <td>First Owner</td>\n",
       "      <td>12.15 kmpl</td>\n",
       "      <td>1451 CC</td>\n",
       "      <td>141bhp</td>\n",
       "      <td>250Nm</td>\n",
       "      <td>5.0</td>\n",
       "    </tr>\n",
       "  </tbody>\n",
       "</table>\n",
       "</div>"
      ],
      "text/plain": [
       "                                             Name  year  selling_price  \\\n",
       "0                         Maruti Alto 800 LXI Opt  2023         410000   \n",
       "1                   Skoda Slavia 1.0 TSI Ambition  2023        1350000   \n",
       "2   BMW 3 Series Gran Limousine 320Ld Luxury Line  2023        5800000   \n",
       "3                              MG ZS EV Exclusive  2023        2650000   \n",
       "4                            Tata Punch Adventure  2023         715000   \n",
       "\n",
       "   km_driven      fuel seller_type transmission        owner     mileage  \\\n",
       "0      10000    Petrol  Individual       Manual  First Owner  19.03 kmpl   \n",
       "1      10000    Petrol  Individual       Manual  First Owner  14.08 kmpl   \n",
       "2       1000    Diesel      Dealer    Automatic  First Owner  18.15 kmpl   \n",
       "3      10000  Electric      Dealer    Automatic  First Owner  32.52 kmpl   \n",
       "4      10000    Petrol  Individual       Manual  First Owner  12.15 kmpl   \n",
       "\n",
       "    engine  max_power torque  seats  \n",
       "0   999 CC   71.01bhp   96Nm    5.0  \n",
       "1  1956 CC  167.67bhp  350nm    5.0  \n",
       "2   998 CC  118.35bhp  172Nm    5.0  \n",
       "3   998 CC   58.33bhp   78Nm    5.0  \n",
       "4  1451 CC     141bhp  250Nm    5.0  "
      ]
     },
     "execution_count": 5,
     "metadata": {},
     "output_type": "execute_result"
    }
   ],
   "source": [
    "data = pd.read_csv(\"C:/Users/Gayatri/Desktop/all folders/datsets/Car dekho.csv\")\n",
    "data.head()"
   ]
  },
  {
   "cell_type": "code",
   "execution_count": 6,
   "id": "257b06bb",
   "metadata": {},
   "outputs": [
    {
     "data": {
      "text/plain": [
       "Index(['Name', 'year', 'selling_price', 'km_driven', 'fuel', 'seller_type',\n",
       "       'transmission', 'owner', 'mileage', 'engine', 'max_power', 'torque',\n",
       "       'seats'],\n",
       "      dtype='object')"
      ]
     },
     "execution_count": 6,
     "metadata": {},
     "output_type": "execute_result"
    }
   ],
   "source": [
    "data.columns"
   ]
  },
  {
   "cell_type": "code",
   "execution_count": 7,
   "id": "078b2eb7",
   "metadata": {},
   "outputs": [
    {
     "name": "stdout",
     "output_type": "stream",
     "text": [
      "Maruti Swift Dzire VDI                 129\n",
      "Maruti Alto 800 LXI                     82\n",
      "Maruti Alto LXi                         71\n",
      "BMW X4 M Sport X xDrive20d              62\n",
      "Maruti Swift VDI                        61\n",
      "                                      ... \n",
      "BMW X3 xDrive20d                         1\n",
      "Chevrolet Captiva 2.2 LTZ AWD            1\n",
      "Hyundai Grand i10 1.2 Kappa Era          1\n",
      "Hyundai EON Era Plus Sports Edition      1\n",
      "Mahindra Willys CJ 3B 4X4                1\n",
      "Name: Name, Length: 2076, dtype: int64\n",
      "2017    1018\n",
      "2016     859\n",
      "2018     807\n",
      "2015     776\n",
      "2013     670\n",
      "2012     651\n",
      "2014     621\n",
      "2011     592\n",
      "2019     583\n",
      "2010     394\n",
      "2009     246\n",
      "2008     214\n",
      "2007     183\n",
      "2006     124\n",
      "2005      97\n",
      "2020      74\n",
      "2004      62\n",
      "2003      49\n",
      "2002      27\n",
      "2000      22\n",
      "1999      18\n",
      "1997      11\n",
      "2001      10\n",
      "1998      10\n",
      "2021       7\n",
      "2022       7\n",
      "2023       6\n",
      "1996       3\n",
      "1994       3\n",
      "1995       2\n",
      "1991       1\n",
      "1983       1\n",
      "Name: year, dtype: int64\n",
      "300000     227\n",
      "600000     213\n",
      "350000     209\n",
      "550000     204\n",
      "450000     196\n",
      "          ... \n",
      "512000       1\n",
      "2280000      1\n",
      "2400000      1\n",
      "2375000      1\n",
      "163000       1\n",
      "Name: selling_price, Length: 683, dtype: int64\n",
      "120000    536\n",
      "70000     456\n",
      "80000     448\n",
      "60000     425\n",
      "50000     391\n",
      "         ... \n",
      "49907       1\n",
      "29434       1\n",
      "19800       1\n",
      "58500       1\n",
      "186388      1\n",
      "Name: km_driven, Length: 932, dtype: int64\n",
      "Diesel      4407\n",
      "Petrol      3645\n",
      "CNG           57\n",
      "LPG           38\n",
      "Electric       1\n",
      "Name: fuel, dtype: int64\n",
      "Individual          6780\n",
      "Dealer              1132\n",
      "Trustmark Dealer     236\n",
      "Name: seller_type, dtype: int64\n",
      "Manual        7078\n",
      "Automatic     1050\n",
      " Manual         13\n",
      " Automatic       7\n",
      "Name: transmission, dtype: int64\n",
      "First Owner             5306\n",
      "Second Owner            2108\n",
      "Third Owner              555\n",
      "Fourth & Above Owner     174\n",
      "Test Drive Car             5\n",
      "Name: owner, dtype: int64\n",
      "18.9 kmpl     225\n",
      "19.7 kmpl     173\n",
      "18.6 kmpl     164\n",
      "21.1 kmpl     157\n",
      "17.0 kmpl     133\n",
      "             ... \n",
      "16.51 kmpl      1\n",
      "21.72 kmpl      1\n",
      "14.5 kmpl       1\n",
      "14.62 kmpl      1\n",
      "14.99 kmpl      1\n",
      "Name: mileage, Length: 398, dtype: int64\n",
      "1248 CC    1017\n",
      "1197 CC     834\n",
      "998 CC      459\n",
      "796 CC      444\n",
      "2179 CC     389\n",
      "           ... \n",
      "2776 CC       1\n",
      "2650 CC       1\n",
      "2835 CC       1\n",
      "2496 CC       1\n",
      "1489 CC       1\n",
      "Name: engine, Length: 121, dtype: int64\n",
      "74 bhp        377\n",
      "81.80 bhp     220\n",
      "88.5 bhp      204\n",
      "67 bhp        165\n",
      "46.3 bhp      162\n",
      "             ... \n",
      "60.2 bhp        1\n",
      "104.5 bhp       1\n",
      "157.75 bhp      1\n",
      "58.33 bhp       1\n",
      " bhp            1\n",
      "Name: max_power, Length: 331, dtype: int64\n",
      "190Nm@ 2000rpm               530\n",
      "200Nm@ 1750rpm               445\n",
      "90Nm@ 3500rpm                405\n",
      "113Nm@ 4200rpm               223\n",
      "114Nm@ 4000rpm               171\n",
      "                            ... \n",
      "250 Nm at 1,500-3,000 rpm      1\n",
      "400nm@ 2800rpm                 1\n",
      "13.5@ 2500(kgm@ rpm)           1\n",
      "490Nm@ 1600rpm                 1\n",
      "121Nm@ 2800rpm                 1\n",
      "Name: torque, Length: 449, dtype: int64\n",
      "5.0     6274\n",
      "7.0     1120\n",
      "8.0      236\n",
      "4.0      133\n",
      "9.0       80\n",
      "6.0       62\n",
      "10.0      19\n",
      "2.0        2\n",
      "14.0       1\n",
      "Name: seats, dtype: int64\n"
     ]
    }
   ],
   "source": [
    "col_names = data.columns\n",
    "for col in col_names:\n",
    "    print(data[col].value_counts())"
   ]
  },
  {
   "cell_type": "code",
   "execution_count": 101,
   "id": "5f7eb722",
   "metadata": {},
   "outputs": [],
   "source": []
  },
  {
   "cell_type": "markdown",
   "id": "6ed3cbdc",
   "metadata": {},
   "source": [
    "## Data preprocessing"
   ]
  },
  {
   "cell_type": "code",
   "execution_count": 84,
   "id": "f991390a",
   "metadata": {},
   "outputs": [
    {
     "data": {
      "text/html": [
       "<div>\n",
       "<style scoped>\n",
       "    .dataframe tbody tr th:only-of-type {\n",
       "        vertical-align: middle;\n",
       "    }\n",
       "\n",
       "    .dataframe tbody tr th {\n",
       "        vertical-align: top;\n",
       "    }\n",
       "\n",
       "    .dataframe thead th {\n",
       "        text-align: right;\n",
       "    }\n",
       "</style>\n",
       "<table border=\"1\" class=\"dataframe\">\n",
       "  <thead>\n",
       "    <tr style=\"text-align: right;\">\n",
       "      <th></th>\n",
       "      <th>buying</th>\n",
       "      <th>maint</th>\n",
       "      <th>doors</th>\n",
       "      <th>persons</th>\n",
       "      <th>lug_boot</th>\n",
       "      <th>safety</th>\n",
       "      <th>class</th>\n",
       "    </tr>\n",
       "  </thead>\n",
       "  <tbody>\n",
       "    <tr>\n",
       "      <th>0</th>\n",
       "      <td>3</td>\n",
       "      <td>3</td>\n",
       "      <td>2</td>\n",
       "      <td>2</td>\n",
       "      <td>2</td>\n",
       "      <td>2</td>\n",
       "      <td>2</td>\n",
       "    </tr>\n",
       "    <tr>\n",
       "      <th>1</th>\n",
       "      <td>3</td>\n",
       "      <td>3</td>\n",
       "      <td>2</td>\n",
       "      <td>2</td>\n",
       "      <td>2</td>\n",
       "      <td>0</td>\n",
       "      <td>2</td>\n",
       "    </tr>\n",
       "    <tr>\n",
       "      <th>2</th>\n",
       "      <td>3</td>\n",
       "      <td>3</td>\n",
       "      <td>2</td>\n",
       "      <td>2</td>\n",
       "      <td>1</td>\n",
       "      <td>1</td>\n",
       "      <td>2</td>\n",
       "    </tr>\n",
       "    <tr>\n",
       "      <th>3</th>\n",
       "      <td>3</td>\n",
       "      <td>3</td>\n",
       "      <td>2</td>\n",
       "      <td>2</td>\n",
       "      <td>1</td>\n",
       "      <td>2</td>\n",
       "      <td>2</td>\n",
       "    </tr>\n",
       "    <tr>\n",
       "      <th>4</th>\n",
       "      <td>3</td>\n",
       "      <td>3</td>\n",
       "      <td>2</td>\n",
       "      <td>2</td>\n",
       "      <td>1</td>\n",
       "      <td>0</td>\n",
       "      <td>2</td>\n",
       "    </tr>\n",
       "  </tbody>\n",
       "</table>\n",
       "</div>"
      ],
      "text/plain": [
       "   buying  maint doors persons  lug_boot  safety  class\n",
       "0       3      3     2       2         2       2      2\n",
       "1       3      3     2       2         2       0      2\n",
       "2       3      3     2       2         1       1      2\n",
       "3       3      3     2       2         1       2      2\n",
       "4       3      3     2       2         1       0      2"
      ]
     },
     "execution_count": 84,
     "metadata": {},
     "output_type": "execute_result"
    }
   ],
   "source": []
  },
  {
   "cell_type": "code",
   "execution_count": 85,
   "id": "b0c4b367",
   "metadata": {},
   "outputs": [
    {
     "name": "stdout",
     "output_type": "stream",
     "text": [
      "<class 'pandas.core.frame.DataFrame'>\n",
      "RangeIndex: 1727 entries, 0 to 1726\n",
      "Data columns (total 7 columns):\n",
      " #   Column    Non-Null Count  Dtype \n",
      "---  ------    --------------  ----- \n",
      " 0   buying    1727 non-null   int64 \n",
      " 1   maint     1727 non-null   int64 \n",
      " 2   doors     1727 non-null   object\n",
      " 3   persons   1727 non-null   object\n",
      " 4   lug_boot  1727 non-null   int64 \n",
      " 5   safety    1727 non-null   int64 \n",
      " 6   class     1727 non-null   int64 \n",
      "dtypes: int64(5), object(2)\n",
      "memory usage: 94.6+ KB\n"
     ]
    }
   ],
   "source": [
    "data.info()"
   ]
  },
  {
   "cell_type": "code",
   "execution_count": 86,
   "id": "e7ff0896",
   "metadata": {},
   "outputs": [
    {
     "data": {
      "text/html": [
       "<div>\n",
       "<style scoped>\n",
       "    .dataframe tbody tr th:only-of-type {\n",
       "        vertical-align: middle;\n",
       "    }\n",
       "\n",
       "    .dataframe tbody tr th {\n",
       "        vertical-align: top;\n",
       "    }\n",
       "\n",
       "    .dataframe thead th {\n",
       "        text-align: right;\n",
       "    }\n",
       "</style>\n",
       "<table border=\"1\" class=\"dataframe\">\n",
       "  <thead>\n",
       "    <tr style=\"text-align: right;\">\n",
       "      <th></th>\n",
       "      <th>buying</th>\n",
       "      <th>maint</th>\n",
       "      <th>lug_boot</th>\n",
       "      <th>safety</th>\n",
       "      <th>class</th>\n",
       "    </tr>\n",
       "  </thead>\n",
       "  <tbody>\n",
       "    <tr>\n",
       "      <th>count</th>\n",
       "      <td>1727.000000</td>\n",
       "      <td>1727.000000</td>\n",
       "      <td>1727.000000</td>\n",
       "      <td>1727.00000</td>\n",
       "      <td>1727.000000</td>\n",
       "    </tr>\n",
       "    <tr>\n",
       "      <th>mean</th>\n",
       "      <td>1.499131</td>\n",
       "      <td>1.499131</td>\n",
       "      <td>0.999421</td>\n",
       "      <td>1.00000</td>\n",
       "      <td>1.552982</td>\n",
       "    </tr>\n",
       "    <tr>\n",
       "      <th>std</th>\n",
       "      <td>1.118098</td>\n",
       "      <td>1.118098</td>\n",
       "      <td>0.816615</td>\n",
       "      <td>0.81697</td>\n",
       "      <td>0.876136</td>\n",
       "    </tr>\n",
       "    <tr>\n",
       "      <th>min</th>\n",
       "      <td>0.000000</td>\n",
       "      <td>0.000000</td>\n",
       "      <td>0.000000</td>\n",
       "      <td>0.00000</td>\n",
       "      <td>0.000000</td>\n",
       "    </tr>\n",
       "    <tr>\n",
       "      <th>25%</th>\n",
       "      <td>0.500000</td>\n",
       "      <td>0.500000</td>\n",
       "      <td>0.000000</td>\n",
       "      <td>0.00000</td>\n",
       "      <td>1.000000</td>\n",
       "    </tr>\n",
       "    <tr>\n",
       "      <th>50%</th>\n",
       "      <td>1.000000</td>\n",
       "      <td>1.000000</td>\n",
       "      <td>1.000000</td>\n",
       "      <td>1.00000</td>\n",
       "      <td>2.000000</td>\n",
       "    </tr>\n",
       "    <tr>\n",
       "      <th>75%</th>\n",
       "      <td>2.000000</td>\n",
       "      <td>2.000000</td>\n",
       "      <td>2.000000</td>\n",
       "      <td>2.00000</td>\n",
       "      <td>2.000000</td>\n",
       "    </tr>\n",
       "    <tr>\n",
       "      <th>max</th>\n",
       "      <td>3.000000</td>\n",
       "      <td>3.000000</td>\n",
       "      <td>2.000000</td>\n",
       "      <td>2.00000</td>\n",
       "      <td>3.000000</td>\n",
       "    </tr>\n",
       "  </tbody>\n",
       "</table>\n",
       "</div>"
      ],
      "text/plain": [
       "            buying        maint     lug_boot      safety        class\n",
       "count  1727.000000  1727.000000  1727.000000  1727.00000  1727.000000\n",
       "mean      1.499131     1.499131     0.999421     1.00000     1.552982\n",
       "std       1.118098     1.118098     0.816615     0.81697     0.876136\n",
       "min       0.000000     0.000000     0.000000     0.00000     0.000000\n",
       "25%       0.500000     0.500000     0.000000     0.00000     1.000000\n",
       "50%       1.000000     1.000000     1.000000     1.00000     2.000000\n",
       "75%       2.000000     2.000000     2.000000     2.00000     2.000000\n",
       "max       3.000000     3.000000     2.000000     2.00000     3.000000"
      ]
     },
     "execution_count": 86,
     "metadata": {},
     "output_type": "execute_result"
    }
   ],
   "source": [
    "data.describe()"
   ]
  },
  {
   "cell_type": "code",
   "execution_count": 87,
   "id": "3b4bec57",
   "metadata": {},
   "outputs": [
    {
     "data": {
      "text/plain": [
       "(1727, 7)"
      ]
     },
     "execution_count": 87,
     "metadata": {},
     "output_type": "execute_result"
    }
   ],
   "source": [
    "data.shape"
   ]
  },
  {
   "cell_type": "code",
   "execution_count": 88,
   "id": "7c937e86",
   "metadata": {},
   "outputs": [
    {
     "data": {
      "text/plain": [
       "buying      0\n",
       "maint       0\n",
       "doors       0\n",
       "persons     0\n",
       "lug_boot    0\n",
       "safety      0\n",
       "class       0\n",
       "dtype: int64"
      ]
     },
     "execution_count": 88,
     "metadata": {},
     "output_type": "execute_result"
    }
   ],
   "source": [
    "data.isna().sum()"
   ]
  },
  {
   "cell_type": "code",
   "execution_count": 89,
   "id": "adb7f4a6",
   "metadata": {},
   "outputs": [
    {
     "data": {
      "text/plain": [
       "<bound method DataFrame.nunique of       buying  maint  doors persons  lug_boot  safety  class\n",
       "0          3      3      2       2         2       2      2\n",
       "1          3      3      2       2         2       0      2\n",
       "2          3      3      2       2         1       1      2\n",
       "3          3      3      2       2         1       2      2\n",
       "4          3      3      2       2         1       0      2\n",
       "...      ...    ...    ...     ...       ...     ...    ...\n",
       "1722       1      1  5more    more         1       2      1\n",
       "1723       1      1  5more    more         1       0      3\n",
       "1724       1      1  5more    more         0       1      2\n",
       "1725       1      1  5more    more         0       2      1\n",
       "1726       1      1  5more    more         0       0      3\n",
       "\n",
       "[1727 rows x 7 columns]>"
      ]
     },
     "execution_count": 89,
     "metadata": {},
     "output_type": "execute_result"
    }
   ],
   "source": [
    "data.nunique"
   ]
  },
  {
   "cell_type": "code",
   "execution_count": 102,
   "id": "42486896",
   "metadata": {},
   "outputs": [
    {
     "data": {
      "text/plain": [
       "2    1209\n",
       "0     384\n",
       "1      69\n",
       "3      65\n",
       "Name: class, dtype: int64"
      ]
     },
     "execution_count": 102,
     "metadata": {},
     "output_type": "execute_result"
    }
   ],
   "source": [
    "data[\"class\"].value_counts()"
   ]
  },
  {
   "cell_type": "markdown",
   "id": "7a35ce45",
   "metadata": {},
   "source": [
    "## Exploratory data analysis"
   ]
  },
  {
   "cell_type": "code",
   "execution_count": 103,
   "id": "1264b451",
   "metadata": {},
   "outputs": [
    {
     "data": {
      "text/plain": [
       "<matplotlib.collections.PathCollection at 0x251eb415180>"
      ]
     },
     "execution_count": 103,
     "metadata": {},
     "output_type": "execute_result"
    },
    {
     "data": {
      "image/png": "[encoded data removed]",
      "text/plain": [
       "<Figure size 640x480 with 9 Axes>"
      ]
     },
     "metadata": {},
     "output_type": "display_data"
    }
   ],
   "source": [
    "plt.subplot(2,5,1)\n",
    "plt.scatter(x = data[\"buying\"] , y = data[\"maint\"])\n",
    "plt.subplot(2,5,2)\n",
    "plt.scatter(x = data[\"doors\"] , y = data[\"class\"])\n",
    "plt.subplot(2,5,3)\n",
    "plt.scatter(x = data[\"safety\"] , y = data[\"maint\"])\n",
    "plt.subplot(2,5,4)\n",
    "plt.scatter(x = data[\"doors\"] , y = data[\"maint\"])\n",
    "plt.subplot(2,5,5)\n",
    "plt.scatter(x = data[\"persons\"] , y = data[\"lug_boot\"])\n",
    "plt.subplot(2,5,6)\n",
    "plt.scatter(x = data[\"persons\"] , y = data[\"class\"])\n",
    "plt.subplot(2,5,7)\n",
    "plt.scatter(x = data[\"lug_boot\"] , y = data[\"class\"])\n",
    "plt.subplot(2,5,8)\n",
    "plt.scatter(x = data[\"buying\"] , y = data[\"class\"])\n",
    "plt.subplot(2,5,9)\n",
    "plt.scatter(x = data[\"lug_boot\"] , y = data[\"maint\"])\n"
   ]
  },
  {
   "cell_type": "code",
   "execution_count": 104,
   "id": "463001ae",
   "metadata": {},
   "outputs": [
    {
     "data": {
      "text/plain": [
       "<Axes: xlabel='buying', ylabel='count'>"
      ]
     },
     "execution_count": 104,
     "metadata": {},
     "output_type": "execute_result"
    },
    {
     "data": {
      "image/png": "[encoded data removed]",
      "text/plain": [
       "<Figure size 640x480 with 7 Axes>"
      ]
     },
     "metadata": {},
     "output_type": "display_data"
    }
   ],
   "source": [
    "plt.subplot(3,3,1)\n",
    "sns.countplot(x = data[\"class\"])\n",
    "plt.subplot(3,3,2)\n",
    "sns.countplot(x = data[\"persons\"])\n",
    "plt.subplot(3,3,3)\n",
    "sns.countplot(x = data[\"lug_boot\"])\n",
    "plt.subplot(3,3,4)\n",
    "sns.countplot(x = data[\"safety\"])\n",
    "plt.subplot(3,3,5)\n",
    "sns.countplot(x = data[\"doors\"])\n",
    "plt.subplot(3,3,6)\n",
    "sns.countplot(x = data[\"maint\"])\n",
    "plt.subplot(3,3,7)\n",
    "sns.countplot(x = data[\"buying\"])\n"
   ]
  },
  {
   "cell_type": "code",
   "execution_count": 105,
   "id": "d70f1a4f",
   "metadata": {},
   "outputs": [
    {
     "data": {
      "text/plain": [
       "<seaborn.axisgrid.FacetGrid at 0x251eb523ac0>"
      ]
     },
     "execution_count": 105,
     "metadata": {},
     "output_type": "execute_result"
    },
    {
     "data": {
      "image/png": "[encoded data removed]",
      "text/plain": [
       "<Figure size 500x500 with 1 Axes>"
      ]
     },
     "metadata": {},
     "output_type": "display_data"
    }
   ],
   "source": [
    "sns.relplot(data = data[\"class\"])"
   ]
  },
  {
   "cell_type": "markdown",
   "id": "7c545d38",
   "metadata": {},
   "source": [
    "## traintestsplit"
   ]
  },
  {
   "cell_type": "code",
   "execution_count": 106,
   "id": "c7bc8645",
   "metadata": {},
   "outputs": [],
   "source": [
    "from sklearn.model_selection import train_test_split"
   ]
  },
  {
   "cell_type": "code",
   "execution_count": 107,
   "id": "0f782d5b",
   "metadata": {},
   "outputs": [
    {
     "data": {
      "text/html": [
       "<div>\n",
       "<style scoped>\n",
       "    .dataframe tbody tr th:only-of-type {\n",
       "        vertical-align: middle;\n",
       "    }\n",
       "\n",
       "    .dataframe tbody tr th {\n",
       "        vertical-align: top;\n",
       "    }\n",
       "\n",
       "    .dataframe thead th {\n",
       "        text-align: right;\n",
       "    }\n",
       "</style>\n",
       "<table border=\"1\" class=\"dataframe\">\n",
       "  <thead>\n",
       "    <tr style=\"text-align: right;\">\n",
       "      <th></th>\n",
       "      <th>buying</th>\n",
       "      <th>maint</th>\n",
       "      <th>doors</th>\n",
       "      <th>persons</th>\n",
       "      <th>lug_boot</th>\n",
       "      <th>safety</th>\n",
       "      <th>class</th>\n",
       "    </tr>\n",
       "  </thead>\n",
       "  <tbody>\n",
       "    <tr>\n",
       "      <th>0</th>\n",
       "      <td>3</td>\n",
       "      <td>3</td>\n",
       "      <td>2</td>\n",
       "      <td>2</td>\n",
       "      <td>2</td>\n",
       "      <td>2</td>\n",
       "      <td>2</td>\n",
       "    </tr>\n",
       "    <tr>\n",
       "      <th>1</th>\n",
       "      <td>3</td>\n",
       "      <td>3</td>\n",
       "      <td>2</td>\n",
       "      <td>2</td>\n",
       "      <td>2</td>\n",
       "      <td>0</td>\n",
       "      <td>2</td>\n",
       "    </tr>\n",
       "    <tr>\n",
       "      <th>2</th>\n",
       "      <td>3</td>\n",
       "      <td>3</td>\n",
       "      <td>2</td>\n",
       "      <td>2</td>\n",
       "      <td>1</td>\n",
       "      <td>1</td>\n",
       "      <td>2</td>\n",
       "    </tr>\n",
       "    <tr>\n",
       "      <th>3</th>\n",
       "      <td>3</td>\n",
       "      <td>3</td>\n",
       "      <td>2</td>\n",
       "      <td>2</td>\n",
       "      <td>1</td>\n",
       "      <td>2</td>\n",
       "      <td>2</td>\n",
       "    </tr>\n",
       "    <tr>\n",
       "      <th>4</th>\n",
       "      <td>3</td>\n",
       "      <td>3</td>\n",
       "      <td>2</td>\n",
       "      <td>2</td>\n",
       "      <td>1</td>\n",
       "      <td>0</td>\n",
       "      <td>2</td>\n",
       "    </tr>\n",
       "  </tbody>\n",
       "</table>\n",
       "</div>"
      ],
      "text/plain": [
       "   buying  maint doors persons  lug_boot  safety  class\n",
       "0       3      3     2       2         2       2      2\n",
       "1       3      3     2       2         2       0      2\n",
       "2       3      3     2       2         1       1      2\n",
       "3       3      3     2       2         1       2      2\n",
       "4       3      3     2       2         1       0      2"
      ]
     },
     "execution_count": 107,
     "metadata": {},
     "output_type": "execute_result"
    }
   ],
   "source": [
    "# from sklearn.preprocessing import LabelEncoder\n",
    "# le = LabelEncoder()\n",
    "# data[\"buying\"] = le.fit_transform(data[\"buying\"])\n",
    "# data[\"lug_boot\"] = le.fit_transform(data[\"lug_boot\"])\n",
    "# data[\"safety\"] = le.fit_transform(data[\"safety\"])\n",
    "# data[\"class\"] = le.fit_transform(data[\"class\"])\n",
    "# data[\"maint\"] = le.fit_transform(data[\"maint\"])\n",
    "# data.head()"
   ]
  },
  {
   "cell_type": "code",
   "execution_count": 9,
   "id": "cfaa3fe7",
   "metadata": {},
   "outputs": [],
   "source": [
    "# x = data.drop([\"class\"], axis = True)\n",
    "# x"
   ]
  },
  {
   "cell_type": "code",
   "execution_count": 109,
   "id": "fd7ea698",
   "metadata": {},
   "outputs": [
    {
     "data": {
      "text/plain": [
       "0       2\n",
       "1       2\n",
       "2       2\n",
       "3       2\n",
       "4       2\n",
       "       ..\n",
       "1722    1\n",
       "1723    3\n",
       "1724    2\n",
       "1725    1\n",
       "1726    3\n",
       "Name: class, Length: 1727, dtype: int64"
      ]
     },
     "execution_count": 109,
     "metadata": {},
     "output_type": "execute_result"
    }
   ],
   "source": [
    "y = data[\"class\"]\n",
    "y"
   ]
  },
  {
   "cell_type": "code",
   "execution_count": 110,
   "id": "58be7088",
   "metadata": {},
   "outputs": [],
   "source": [
    "xtrain, xtest, ytrain, ytest = train_test_split(x, y, test_size = 0.3, random_state = 2)"
   ]
  },
  {
   "cell_type": "code",
   "execution_count": 111,
   "id": "a5550a98",
   "metadata": {},
   "outputs": [
    {
     "data": {
      "text/html": [
       "<div>\n",
       "<style scoped>\n",
       "    .dataframe tbody tr th:only-of-type {\n",
       "        vertical-align: middle;\n",
       "    }\n",
       "\n",
       "    .dataframe tbody tr th {\n",
       "        vertical-align: top;\n",
       "    }\n",
       "\n",
       "    .dataframe thead th {\n",
       "        text-align: right;\n",
       "    }\n",
       "</style>\n",
       "<table border=\"1\" class=\"dataframe\">\n",
       "  <thead>\n",
       "    <tr style=\"text-align: right;\">\n",
       "      <th></th>\n",
       "      <th>buying</th>\n",
       "      <th>maint</th>\n",
       "      <th>doors</th>\n",
       "      <th>persons</th>\n",
       "      <th>lug_boot</th>\n",
       "      <th>safety</th>\n",
       "    </tr>\n",
       "  </thead>\n",
       "  <tbody>\n",
       "    <tr>\n",
       "      <th>542</th>\n",
       "      <td>0</td>\n",
       "      <td>0</td>\n",
       "      <td>2</td>\n",
       "      <td>2</td>\n",
       "      <td>1</td>\n",
       "      <td>1</td>\n",
       "    </tr>\n",
       "    <tr>\n",
       "      <th>20</th>\n",
       "      <td>3</td>\n",
       "      <td>3</td>\n",
       "      <td>2</td>\n",
       "      <td>2</td>\n",
       "      <td>1</td>\n",
       "      <td>1</td>\n",
       "    </tr>\n",
       "    <tr>\n",
       "      <th>968</th>\n",
       "      <td>2</td>\n",
       "      <td>3</td>\n",
       "      <td>5</td>\n",
       "      <td>2</td>\n",
       "      <td>0</td>\n",
       "      <td>1</td>\n",
       "    </tr>\n",
       "    <tr>\n",
       "      <th>556</th>\n",
       "      <td>0</td>\n",
       "      <td>0</td>\n",
       "      <td>2</td>\n",
       "      <td>4</td>\n",
       "      <td>0</td>\n",
       "      <td>0</td>\n",
       "    </tr>\n",
       "    <tr>\n",
       "      <th>1308</th>\n",
       "      <td>1</td>\n",
       "      <td>3</td>\n",
       "      <td>2</td>\n",
       "      <td>4</td>\n",
       "      <td>1</td>\n",
       "      <td>2</td>\n",
       "    </tr>\n",
       "    <tr>\n",
       "      <th>...</th>\n",
       "      <td>...</td>\n",
       "      <td>...</td>\n",
       "      <td>...</td>\n",
       "      <td>...</td>\n",
       "      <td>...</td>\n",
       "      <td>...</td>\n",
       "    </tr>\n",
       "    <tr>\n",
       "      <th>1558</th>\n",
       "      <td>1</td>\n",
       "      <td>2</td>\n",
       "      <td>3</td>\n",
       "      <td>2</td>\n",
       "      <td>2</td>\n",
       "      <td>0</td>\n",
       "    </tr>\n",
       "    <tr>\n",
       "      <th>1608</th>\n",
       "      <td>1</td>\n",
       "      <td>2</td>\n",
       "      <td>5</td>\n",
       "      <td>4</td>\n",
       "      <td>0</td>\n",
       "      <td>2</td>\n",
       "    </tr>\n",
       "    <tr>\n",
       "      <th>493</th>\n",
       "      <td>0</td>\n",
       "      <td>3</td>\n",
       "      <td>4</td>\n",
       "      <td>2</td>\n",
       "      <td>0</td>\n",
       "      <td>0</td>\n",
       "    </tr>\n",
       "    <tr>\n",
       "      <th>527</th>\n",
       "      <td>0</td>\n",
       "      <td>3</td>\n",
       "      <td>5</td>\n",
       "      <td>4</td>\n",
       "      <td>0</td>\n",
       "      <td>1</td>\n",
       "    </tr>\n",
       "    <tr>\n",
       "      <th>1192</th>\n",
       "      <td>2</td>\n",
       "      <td>1</td>\n",
       "      <td>2</td>\n",
       "      <td>2</td>\n",
       "      <td>1</td>\n",
       "      <td>0</td>\n",
       "    </tr>\n",
       "  </tbody>\n",
       "</table>\n",
       "<p>1208 rows × 6 columns</p>\n",
       "</div>"
      ],
      "text/plain": [
       "      buying  maint doors persons  lug_boot  safety\n",
       "542        0      0     2       2         1       1\n",
       "20         3      3     2       2         1       1\n",
       "968        2      3     5       2         0       1\n",
       "556        0      0     2       4         0       0\n",
       "1308       1      3     2       4         1       2\n",
       "...      ...    ...   ...     ...       ...     ...\n",
       "1558       1      2     3       2         2       0\n",
       "1608       1      2     5       4         0       2\n",
       "493        0      3     4       2         0       0\n",
       "527        0      3     5       4         0       1\n",
       "1192       2      1     2       2         1       0\n",
       "\n",
       "[1208 rows x 6 columns]"
      ]
     },
     "execution_count": 111,
     "metadata": {},
     "output_type": "execute_result"
    }
   ],
   "source": [
    "xtrain.shape\n",
    "xtrain"
   ]
  },
  {
   "cell_type": "code",
   "execution_count": 112,
   "id": "38c84893",
   "metadata": {},
   "outputs": [
    {
     "data": {
      "text/plain": [
       "(519, 6)"
      ]
     },
     "execution_count": 112,
     "metadata": {},
     "output_type": "execute_result"
    }
   ],
   "source": [
    "xtest.shape"
   ]
  },
  {
   "cell_type": "code",
   "execution_count": 113,
   "id": "60aa5f68",
   "metadata": {},
   "outputs": [
    {
     "data": {
      "text/plain": [
       "(1208,)"
      ]
     },
     "execution_count": 113,
     "metadata": {},
     "output_type": "execute_result"
    }
   ],
   "source": [
    "ytrain.shape"
   ]
  },
  {
   "cell_type": "code",
   "execution_count": 114,
   "id": "91ade1f0",
   "metadata": {},
   "outputs": [
    {
     "data": {
      "text/plain": [
       "(519,)"
      ]
     },
     "execution_count": 114,
     "metadata": {},
     "output_type": "execute_result"
    }
   ],
   "source": [
    "ytest.shape"
   ]
  },
  {
   "cell_type": "code",
   "execution_count": 115,
   "id": "436fb7de",
   "metadata": {},
   "outputs": [],
   "source": [
    "from sklearn.tree import DecisionTreeClassifier"
   ]
  },
  {
   "cell_type": "code",
   "execution_count": 116,
   "id": "1fc3d31f",
   "metadata": {},
   "outputs": [],
   "source": [
    "giniindex = DecisionTreeClassifier(criterion = \"gini\")"
   ]
  },
  {
   "cell_type": "code",
   "execution_count": 117,
   "id": "7cbd2c9b",
   "metadata": {},
   "outputs": [
    {
     "data": {
      "text/html": [
       "<style>#sk-container-id-1 {color: black;background-color: white;}#sk-container-id-1 pre{padding: 0;}#sk-container-id-1 div.sk-toggleable {background-color: white;}#sk-container-id-1 label.sk-toggleable__label {cursor: pointer;display: block;width: 100%;margin-bottom: 0;padding: 0.3em;box-sizing: border-box;text-align: center;}#sk-container-id-1 label.sk-toggleable__label-arrow:before {content: \"▸\";float: left;margin-right: 0.25em;color: #696969;}#sk-container-id-1 label.sk-toggleable__label-arrow:hover:before {color: black;}#sk-container-id-1 div.sk-estimator:hover label.sk-toggleable__label-arrow:before {color: black;}#sk-container-id-1 div.sk-toggleable__content {max-height: 0;max-width: 0;overflow: hidden;text-align: left;background-color: #f0f8ff;}#sk-container-id-1 div.sk-toggleable__content pre {margin: 0.2em;color: black;border-radius: 0.25em;background-color: #f0f8ff;}#sk-container-id-1 input.sk-toggleable__control:checked~div.sk-toggleable__content {max-height: 200px;max-width: 100%;overflow: auto;}#sk-container-id-1 input.sk-toggleable__control:checked~label.sk-toggleable__label-arrow:before {content: \"▾\";}#sk-container-id-1 div.sk-estimator input.sk-toggleable__control:checked~label.sk-toggleable__label {background-color: #d4ebff;}#sk-container-id-1 div.sk-label input.sk-toggleable__control:checked~label.sk-toggleable__label {background-color: #d4ebff;}#sk-container-id-1 input.sk-hidden--visually {border: 0;clip: rect(1px 1px 1px 1px);clip: rect(1px, 1px, 1px, 1px);height: 1px;margin: -1px;overflow: hidden;padding: 0;position: absolute;width: 1px;}#sk-container-id-1 div.sk-estimator {font-family: monospace;background-color: #f0f8ff;border: 1px dotted black;border-radius: 0.25em;box-sizing: border-box;margin-bottom: 0.5em;}#sk-container-id-1 div.sk-estimator:hover {background-color: #d4ebff;}#sk-container-id-1 div.sk-parallel-item::after {content: \"\";width: 100%;border-bottom: 1px solid gray;flex-grow: 1;}#sk-container-id-1 div.sk-label:hover label.sk-toggleable__label {background-color: #d4ebff;}#sk-container-id-1 div.sk-serial::before {content: \"\";position: absolute;border-left: 1px solid gray;box-sizing: border-box;top: 0;bottom: 0;left: 50%;z-index: 0;}#sk-container-id-1 div.sk-serial {display: flex;flex-direction: column;align-items: center;background-color: white;padding-right: 0.2em;padding-left: 0.2em;position: relative;}#sk-container-id-1 div.sk-item {position: relative;z-index: 1;}#sk-container-id-1 div.sk-parallel {display: flex;align-items: stretch;justify-content: center;background-color: white;position: relative;}#sk-container-id-1 div.sk-item::before, #sk-container-id-1 div.sk-parallel-item::before {content: \"\";position: absolute;border-left: 1px solid gray;box-sizing: border-box;top: 0;bottom: 0;left: 50%;z-index: -1;}#sk-container-id-1 div.sk-parallel-item {display: flex;flex-direction: column;z-index: 1;position: relative;background-color: white;}#sk-container-id-1 div.sk-parallel-item:first-child::after {align-self: flex-end;width: 50%;}#sk-container-id-1 div.sk-parallel-item:last-child::after {align-self: flex-start;width: 50%;}#sk-container-id-1 div.sk-parallel-item:only-child::after {width: 0;}#sk-container-id-1 div.sk-dashed-wrapped {border: 1px dashed gray;margin: 0 0.4em 0.5em 0.4em;box-sizing: border-box;padding-bottom: 0.4em;background-color: white;}#sk-container-id-1 div.sk-label label {font-family: monospace;font-weight: bold;display: inline-block;line-height: 1.2em;}#sk-container-id-1 div.sk-label-container {text-align: center;}#sk-container-id-1 div.sk-container {/* jupyter's `normalize.less` sets `[hidden] { display: none; }` but bootstrap.min.css set `[hidden] { display: none !important; }` so we also need the `!important` here to be able to override the default hidden behavior on the sphinx rendered scikit-learn.org. See: https://github.com/scikit-learn/scikit-learn/issues/21755 */display: inline-block !important;position: relative;}#sk-container-id-1 div.sk-text-repr-fallback {display: none;}</style><div id=\"sk-container-id-1\" class=\"sk-top-container\"><div class=\"sk-text-repr-fallback\"><pre>DecisionTreeClassifier()</pre><b>In a Jupyter environment, please rerun this cell to show the HTML representation or trust the notebook. <br />On GitHub, the HTML representation is unable to render, please try loading this page with nbviewer.org.</b></div><div class=\"sk-container\" hidden><div class=\"sk-item\"><div class=\"sk-estimator sk-toggleable\"><input class=\"sk-toggleable__control sk-hidden--visually\" id=\"sk-estimator-id-1\" type=\"checkbox\" checked><label for=\"sk-estimator-id-1\" class=\"sk-toggleable__label sk-toggleable__label-arrow\">DecisionTreeClassifier</label><div class=\"sk-toggleable__content\"><pre>DecisionTreeClassifier()</pre></div></div></div></div></div>"
      ],
      "text/plain": [
       "DecisionTreeClassifier()"
      ]
     },
     "execution_count": 117,
     "metadata": {},
     "output_type": "execute_result"
    }
   ],
   "source": [
    "giniindex.fit(xtrain, ytrain)"
   ]
  },
  {
   "cell_type": "code",
   "execution_count": 118,
   "id": "57c1da05",
   "metadata": {},
   "outputs": [],
   "source": [
    "ypred= giniindex.predict(xtest)"
   ]
  },
  {
   "cell_type": "code",
   "execution_count": 119,
   "id": "be4c4390",
   "metadata": {},
   "outputs": [],
   "source": [
    "from sklearn.metrics import accuracy_score\n",
    "acc = accuracy_score(ytest, ypred)"
   ]
  },
  {
   "cell_type": "code",
   "execution_count": 120,
   "id": "359a2d77",
   "metadata": {},
   "outputs": [
    {
     "data": {
      "text/plain": [
       "0.7109826589595376"
      ]
     },
     "execution_count": 120,
     "metadata": {},
     "output_type": "execute_result"
    }
   ],
   "source": [
    "acc"
   ]
  },
  {
   "cell_type": "code",
   "execution_count": 121,
   "id": "7a483164",
   "metadata": {},
   "outputs": [],
   "source": [
    "trainpred = giniindex.predict(xtrain)"
   ]
  },
  {
   "cell_type": "code",
   "execution_count": 124,
   "id": "ee69556b",
   "metadata": {},
   "outputs": [],
   "source": [
    "acc1 = accuracy_score(ytrain, trainpred)"
   ]
  },
  {
   "cell_type": "code",
   "execution_count": 125,
   "id": "069e5347",
   "metadata": {},
   "outputs": [
    {
     "data": {
      "text/plain": [
       "0.9122516556291391"
      ]
     },
     "execution_count": 125,
     "metadata": {},
     "output_type": "execute_result"
    }
   ],
   "source": [
    "acc1"
   ]
  },
  {
   "cell_type": "code",
   "execution_count": 126,
   "id": "01b14ee7",
   "metadata": {},
   "outputs": [
    {
     "name": "stdout",
     "output_type": "stream",
     "text": [
      "Training set score: 0.9123\n",
      "Test set score: 0.7110\n"
     ]
    }
   ],
   "source": [
    "print('Training set score: {:.4f}'.format(giniindex.score(xtrain, ytrain)))\n",
    "print('Test set score: {:.4f}'.format(giniindex.score(xtest, ytest)))\n"
   ]
  },
  {
   "cell_type": "code",
   "execution_count": 127,
   "id": "e72cabe7",
   "metadata": {},
   "outputs": [
    {
     "data": {
      "text/plain": [
       "[Text(0.6801705788622526, 0.9666666666666667, 'x[5] <= 0.5\\ngini = 0.452\\nsamples = 1208\\nvalue = [263, 49, 852, 44]'),\n",
       " Text(0.4455265410958904, 0.9, 'x[3] <= 3.0\\ngini = 0.629\\nsamples = 395\\nvalue = [133, 24, 194, 44]'),\n",
       " Text(0.338636796042618, 0.8333333333333334, 'x[0] <= 2.5\\ngini = 0.537\\nsamples = 269\\nvalue = [65, 11, 169, 24]'),\n",
       " Text(0.2021974885844749, 0.7666666666666667, 'x[0] <= 0.5\\ngini = 0.592\\nsamples = 204\\nvalue = [53, 11, 116, 24]'),\n",
       " Text(0.07553272450532725, 0.7, 'x[1] <= 2.5\\ngini = 0.468\\nsamples = 67\\nvalue = [25, 0, 42, 0]'),\n",
       " Text(0.07248858447488585, 0.6333333333333333, 'x[4] <= 1.5\\ngini = 0.5\\nsamples = 51\\nvalue = [25, 0, 26, 0]'),\n",
       " Text(0.04299847792998478, 0.5666666666666667, 'x[1] <= 0.5\\ngini = 0.49\\nsamples = 35\\nvalue = [20, 0, 15, 0]'),\n",
       " Text(0.0197869101978691, 0.5, 'x[2] <= 3.5\\ngini = 0.463\\nsamples = 11\\nvalue = [7, 0, 4, 0]'),\n",
       " Text(0.0121765601217656, 0.43333333333333335, 'x[2] <= 2.5\\ngini = 0.49\\nsamples = 7\\nvalue = [4, 0, 3, 0]'),\n",
       " Text(0.0060882800608828, 0.36666666666666664, 'x[4] <= 0.5\\ngini = 0.444\\nsamples = 3\\nvalue = [2, 0, 1, 0]'),\n",
       " Text(0.0030441400304414, 0.3, 'gini = 0.0\\nsamples = 1\\nvalue = [1, 0, 0, 0]'),\n",
       " Text(0.0091324200913242, 0.3, 'gini = 0.5\\nsamples = 2\\nvalue = [1, 0, 1, 0]'),\n",
       " Text(0.0182648401826484, 0.36666666666666664, 'x[4] <= 0.5\\ngini = 0.5\\nsamples = 4\\nvalue = [2, 0, 2, 0]'),\n",
       " Text(0.015220700152207, 0.3, 'gini = 0.5\\nsamples = 2\\nvalue = [1, 0, 1, 0]'),\n",
       " Text(0.0213089802130898, 0.3, 'gini = 0.5\\nsamples = 2\\nvalue = [1, 0, 1, 0]'),\n",
       " Text(0.0273972602739726, 0.43333333333333335, 'x[4] <= 0.5\\ngini = 0.375\\nsamples = 4\\nvalue = [3, 0, 1, 0]'),\n",
       " Text(0.0243531202435312, 0.36666666666666664, 'gini = 0.5\\nsamples = 2\\nvalue = [1, 0, 1, 0]'),\n",
       " Text(0.030441400304414, 0.36666666666666664, 'gini = 0.0\\nsamples = 2\\nvalue = [2, 0, 0, 0]'),\n",
       " Text(0.06621004566210045, 0.5, 'x[2] <= 4.5\\ngini = 0.497\\nsamples = 24\\nvalue = [13, 0, 11, 0]'),\n",
       " Text(0.0517503805175038, 0.43333333333333335, 'x[4] <= 0.5\\ngini = 0.499\\nsamples = 19\\nvalue = [10, 0, 9, 0]'),\n",
       " Text(0.0365296803652968, 0.36666666666666664, 'x[2] <= 2.5\\ngini = 0.5\\nsamples = 10\\nvalue = [5, 0, 5, 0]'),\n",
       " Text(0.0289193302891933, 0.3, 'x[1] <= 1.5\\ngini = 0.444\\nsamples = 3\\nvalue = [1, 0, 2, 0]'),\n",
       " Text(0.0258751902587519, 0.23333333333333334, 'gini = 0.0\\nsamples = 1\\nvalue = [0, 0, 1, 0]'),\n",
       " Text(0.0319634703196347, 0.23333333333333334, 'gini = 0.5\\nsamples = 2\\nvalue = [1, 0, 1, 0]'),\n",
       " Text(0.0441400304414003, 0.3, 'x[2] <= 3.5\\ngini = 0.49\\nsamples = 7\\nvalue = [4, 0, 3, 0]'),\n",
       " Text(0.0380517503805175, 0.23333333333333334, 'x[1] <= 1.5\\ngini = 0.444\\nsamples = 3\\nvalue = [2, 0, 1, 0]'),\n",
       " Text(0.0350076103500761, 0.16666666666666666, 'gini = 0.0\\nsamples = 1\\nvalue = [1, 0, 0, 0]'),\n",
       " Text(0.0410958904109589, 0.16666666666666666, 'gini = 0.5\\nsamples = 2\\nvalue = [1, 0, 1, 0]'),\n",
       " Text(0.0502283105022831, 0.23333333333333334, 'x[1] <= 1.5\\ngini = 0.5\\nsamples = 4\\nvalue = [2, 0, 2, 0]'),\n",
       " Text(0.0471841704718417, 0.16666666666666666, 'gini = 0.5\\nsamples = 2\\nvalue = [1, 0, 1, 0]'),\n",
       " Text(0.0532724505327245, 0.16666666666666666, 'gini = 0.5\\nsamples = 2\\nvalue = [1, 0, 1, 0]'),\n",
       " Text(0.0669710806697108, 0.36666666666666664, 'x[2] <= 2.5\\ngini = 0.494\\nsamples = 9\\nvalue = [5, 0, 4, 0]'),\n",
       " Text(0.0593607305936073, 0.3, 'x[1] <= 1.5\\ngini = 0.444\\nsamples = 3\\nvalue = [2, 0, 1, 0]'),\n",
       " Text(0.0563165905631659, 0.23333333333333334, 'gini = 0.5\\nsamples = 2\\nvalue = [1, 0, 1, 0]'),\n",
       " Text(0.0624048706240487, 0.23333333333333334, 'gini = 0.0\\nsamples = 1\\nvalue = [1, 0, 0, 0]'),\n",
       " Text(0.0745814307458143, 0.3, 'x[1] <= 1.5\\ngini = 0.5\\nsamples = 6\\nvalue = [3, 0, 3, 0]'),\n",
       " Text(0.0684931506849315, 0.23333333333333334, 'x[2] <= 3.5\\ngini = 0.444\\nsamples = 3\\nvalue = [2, 0, 1, 0]'),\n",
       " Text(0.0654490106544901, 0.16666666666666666, 'gini = 0.5\\nsamples = 2\\nvalue = [1, 0, 1, 0]'),\n",
       " Text(0.0715372907153729, 0.16666666666666666, 'gini = 0.0\\nsamples = 1\\nvalue = [1, 0, 0, 0]'),\n",
       " Text(0.0806697108066971, 0.23333333333333334, 'x[2] <= 3.5\\ngini = 0.444\\nsamples = 3\\nvalue = [1, 0, 2, 0]'),\n",
       " Text(0.0776255707762557, 0.16666666666666666, 'gini = 0.5\\nsamples = 2\\nvalue = [1, 0, 1, 0]'),\n",
       " Text(0.0837138508371385, 0.16666666666666666, 'gini = 0.0\\nsamples = 1\\nvalue = [0, 0, 1, 0]'),\n",
       " Text(0.0806697108066971, 0.43333333333333335, 'x[4] <= 0.5\\ngini = 0.48\\nsamples = 5\\nvalue = [3, 0, 2, 0]'),\n",
       " Text(0.0776255707762557, 0.36666666666666664, 'gini = 0.0\\nsamples = 1\\nvalue = [1, 0, 0, 0]'),\n",
       " Text(0.0837138508371385, 0.36666666666666664, 'x[1] <= 1.5\\ngini = 0.5\\nsamples = 4\\nvalue = [2, 0, 2, 0]'),\n",
       " Text(0.0806697108066971, 0.3, 'gini = 0.5\\nsamples = 2\\nvalue = [1, 0, 1, 0]'),\n",
       " Text(0.0867579908675799, 0.3, 'gini = 0.5\\nsamples = 2\\nvalue = [1, 0, 1, 0]'),\n",
       " Text(0.1019786910197869, 0.5666666666666667, 'x[1] <= 1.5\\ngini = 0.43\\nsamples = 16\\nvalue = [5, 0, 11, 0]'),\n",
       " Text(0.0989345509893455, 0.5, 'x[2] <= 2.5\\ngini = 0.486\\nsamples = 12\\nvalue = [5, 0, 7, 0]'),\n",
       " Text(0.0958904109589041, 0.43333333333333335, 'gini = 0.0\\nsamples = 2\\nvalue = [0, 0, 2, 0]'),\n",
       " Text(0.1019786910197869, 0.43333333333333335, 'x[1] <= 0.5\\ngini = 0.5\\nsamples = 10\\nvalue = [5, 0, 5, 0]'),\n",
       " Text(0.0958904109589041, 0.36666666666666664, 'x[2] <= 4.5\\ngini = 0.5\\nsamples = 4\\nvalue = [2, 0, 2, 0]'),\n",
       " Text(0.0928462709284627, 0.3, 'gini = 0.5\\nsamples = 2\\nvalue = [1, 0, 1, 0]'),\n",
       " Text(0.0989345509893455, 0.3, 'gini = 0.5\\nsamples = 2\\nvalue = [1, 0, 1, 0]'),\n",
       " Text(0.1080669710806697, 0.36666666666666664, 'x[2] <= 3.5\\ngini = 0.5\\nsamples = 6\\nvalue = [3, 0, 3, 0]'),\n",
       " Text(0.1050228310502283, 0.3, 'gini = 0.5\\nsamples = 2\\nvalue = [1, 0, 1, 0]'),\n",
       " Text(0.1111111111111111, 0.3, 'x[2] <= 4.5\\ngini = 0.5\\nsamples = 4\\nvalue = [2, 0, 2, 0]'),\n",
       " Text(0.1080669710806697, 0.23333333333333334, 'gini = 0.5\\nsamples = 2\\nvalue = [1, 0, 1, 0]'),\n",
       " Text(0.1141552511415525, 0.23333333333333334, 'gini = 0.5\\nsamples = 2\\nvalue = [1, 0, 1, 0]'),\n",
       " Text(0.1050228310502283, 0.5, 'gini = 0.0\\nsamples = 4\\nvalue = [0, 0, 4, 0]'),\n",
       " Text(0.07857686453576865, 0.6333333333333333, 'gini = 0.0\\nsamples = 16\\nvalue = [0, 0, 16, 0]'),\n",
       " Text(0.3288622526636225, 0.7, 'x[1] <= 2.5\\ngini = 0.629\\nsamples = 137\\nvalue = [28, 11, 74, 24]'),\n",
       " Text(0.2595129375951294, 0.6333333333333333, 'x[4] <= 1.5\\ngini = 0.635\\nsamples = 105\\nvalue = [14, 11, 56, 24]'),\n",
       " Text(0.1860730593607306, 0.5666666666666667, 'x[1] <= 0.5\\ngini = 0.611\\nsamples = 68\\nvalue = [8, 2, 34, 24]'),\n",
       " Text(0.13622526636225266, 0.5, 'x[0] <= 1.5\\ngini = 0.594\\nsamples = 21\\nvalue = [7, 0, 11, 3]'),\n",
       " Text(0.1263318112633181, 0.43333333333333335, 'x[4] <= 0.5\\ngini = 0.594\\nsamples = 8\\nvalue = [1, 0, 4, 3]'),\n",
       " Text(0.1202435312024353, 0.36666666666666664, 'x[2] <= 2.5\\ngini = 0.375\\nsamples = 4\\nvalue = [0, 0, 3, 1]'),\n",
       " Text(0.1171993911719939, 0.3, 'gini = 0.5\\nsamples = 2\\nvalue = [0, 0, 1, 1]'),\n",
       " Text(0.1232876712328767, 0.3, 'gini = 0.0\\nsamples = 2\\nvalue = [0, 0, 2, 0]'),\n",
       " Text(0.1324200913242009, 0.36666666666666664, 'x[2] <= 2.5\\ngini = 0.625\\nsamples = 4\\nvalue = [1, 0, 1, 2]'),\n",
       " Text(0.1293759512937595, 0.3, 'gini = 0.5\\nsamples = 2\\nvalue = [1, 0, 1, 0]'),\n",
       " Text(0.1354642313546423, 0.3, 'gini = 0.0\\nsamples = 2\\nvalue = [0, 0, 0, 2]'),\n",
       " Text(0.1461187214611872, 0.43333333333333335, 'x[2] <= 2.5\\ngini = 0.497\\nsamples = 13\\nvalue = [6, 0, 7, 0]'),\n",
       " Text(0.1430745814307458, 0.36666666666666664, 'gini = 0.0\\nsamples = 2\\nvalue = [0, 0, 2, 0]'),\n",
       " Text(0.1491628614916286, 0.36666666666666664, 'x[2] <= 3.5\\ngini = 0.496\\nsamples = 11\\nvalue = [6, 0, 5, 0]'),\n",
       " Text(0.1415525114155251, 0.3, 'x[4] <= 0.5\\ngini = 0.444\\nsamples = 3\\nvalue = [2, 0, 1, 0]'),\n",
       " Text(0.1385083713850837, 0.23333333333333334, 'gini = 0.0\\nsamples = 1\\nvalue = [1, 0, 0, 0]'),\n",
       " Text(0.1445966514459665, 0.23333333333333334, 'gini = 0.5\\nsamples = 2\\nvalue = [1, 0, 1, 0]'),\n",
       " Text(0.1567732115677321, 0.3, 'x[4] <= 0.5\\ngini = 0.5\\nsamples = 8\\nvalue = [4, 0, 4, 0]'),\n",
       " Text(0.1506849315068493, 0.23333333333333334, 'x[2] <= 4.5\\ngini = 0.5\\nsamples = 4\\nvalue = [2, 0, 2, 0]'),\n",
       " Text(0.1476407914764079, 0.16666666666666666, 'gini = 0.5\\nsamples = 2\\nvalue = [1, 0, 1, 0]'),\n",
       " Text(0.1537290715372907, 0.16666666666666666, 'gini = 0.5\\nsamples = 2\\nvalue = [1, 0, 1, 0]'),\n",
       " Text(0.1628614916286149, 0.23333333333333334, 'x[2] <= 4.5\\ngini = 0.5\\nsamples = 4\\nvalue = [2, 0, 2, 0]'),\n",
       " Text(0.1598173515981735, 0.16666666666666666, 'gini = 0.5\\nsamples = 2\\nvalue = [1, 0, 1, 0]'),\n",
       " Text(0.1659056316590563, 0.16666666666666666, 'gini = 0.5\\nsamples = 2\\nvalue = [1, 0, 1, 0]'),\n",
       " Text(0.2359208523592085, 0.5, 'x[4] <= 0.5\\ngini = 0.559\\nsamples = 47\\nvalue = [1, 2, 23, 21]'),\n",
       " Text(0.2070015220700152, 0.43333333333333335, 'x[2] <= 3.5\\ngini = 0.463\\nsamples = 22\\nvalue = [0, 0, 8, 14]'),\n",
       " Text(0.1887366818873668, 0.36666666666666664, 'x[2] <= 2.5\\ngini = 0.42\\nsamples = 10\\nvalue = [0, 0, 3, 7]'),\n",
       " Text(0.1811263318112633, 0.3, 'x[0] <= 1.5\\ngini = 0.48\\nsamples = 5\\nvalue = [0, 0, 2, 3]'),\n",
       " Text(0.1750380517503805, 0.23333333333333334, 'x[1] <= 1.5\\ngini = 0.444\\nsamples = 3\\nvalue = [0, 0, 1, 2]'),\n",
       " Text(0.1719939117199391, 0.16666666666666666, 'gini = 0.5\\nsamples = 2\\nvalue = [0, 0, 1, 1]'),\n",
       " Text(0.1780821917808219, 0.16666666666666666, 'gini = 0.0\\nsamples = 1\\nvalue = [0, 0, 0, 1]'),\n",
       " Text(0.1872146118721461, 0.23333333333333334, 'x[1] <= 1.5\\ngini = 0.5\\nsamples = 2\\nvalue = [0, 0, 1, 1]'),\n",
       " Text(0.1841704718417047, 0.16666666666666666, 'gini = 0.0\\nsamples = 1\\nvalue = [0, 0, 0, 1]'),\n",
       " Text(0.1902587519025875, 0.16666666666666666, 'gini = 0.0\\nsamples = 1\\nvalue = [0, 0, 1, 0]'),\n",
       " Text(0.1963470319634703, 0.3, 'x[1] <= 1.5\\ngini = 0.32\\nsamples = 5\\nvalue = [0, 0, 1, 4]'),\n",
       " Text(0.1933028919330289, 0.23333333333333334, 'gini = 0.0\\nsamples = 2\\nvalue = [0, 0, 0, 2]'),\n",
       " Text(0.1993911719939117, 0.23333333333333334, 'x[0] <= 1.5\\ngini = 0.444\\nsamples = 3\\nvalue = [0, 0, 1, 2]'),\n",
       " Text(0.1963470319634703, 0.16666666666666666, 'gini = 0.5\\nsamples = 2\\nvalue = [0, 0, 1, 1]'),\n",
       " Text(0.2024353120243531, 0.16666666666666666, 'gini = 0.0\\nsamples = 1\\nvalue = [0, 0, 0, 1]'),\n",
       " Text(0.2252663622526636, 0.36666666666666664, 'x[1] <= 1.5\\ngini = 0.486\\nsamples = 12\\nvalue = [0, 0, 5, 7]'),\n",
       " Text(0.2176560121765601, 0.3, 'x[0] <= 1.5\\ngini = 0.49\\nsamples = 7\\nvalue = [0, 0, 4, 3]'),\n",
       " Text(0.2115677321156773, 0.23333333333333334, 'x[2] <= 4.5\\ngini = 0.5\\nsamples = 4\\nvalue = [0, 0, 2, 2]'),\n",
       " Text(0.2085235920852359, 0.16666666666666666, 'gini = 0.5\\nsamples = 2\\nvalue = [0, 0, 1, 1]'),\n",
       " Text(0.2146118721461187, 0.16666666666666666, 'gini = 0.5\\nsamples = 2\\nvalue = [0, 0, 1, 1]'),\n",
       " Text(0.2237442922374429, 0.23333333333333334, 'x[2] <= 4.5\\ngini = 0.444\\nsamples = 3\\nvalue = [0, 0, 2, 1]'),\n",
       " Text(0.2207001522070015, 0.16666666666666666, 'gini = 0.0\\nsamples = 1\\nvalue = [0, 0, 1, 0]'),\n",
       " Text(0.2267884322678843, 0.16666666666666666, 'gini = 0.5\\nsamples = 2\\nvalue = [0, 0, 1, 1]'),\n",
       " Text(0.2328767123287671, 0.3, 'x[2] <= 4.5\\ngini = 0.32\\nsamples = 5\\nvalue = [0, 0, 1, 4]'),\n",
       " Text(0.2298325722983257, 0.23333333333333334, 'gini = 0.0\\nsamples = 2\\nvalue = [0, 0, 0, 2]'),\n",
       " Text(0.2359208523592085, 0.23333333333333334, 'x[0] <= 1.5\\ngini = 0.444\\nsamples = 3\\nvalue = [0, 0, 1, 2]'),\n",
       " Text(0.2328767123287671, 0.16666666666666666, 'gini = 0.0\\nsamples = 1\\nvalue = [0, 0, 0, 1]'),\n",
       " Text(0.2389649923896499, 0.16666666666666666, 'gini = 0.5\\nsamples = 2\\nvalue = [0, 0, 1, 1]'),\n",
       " Text(0.2648401826484018, 0.43333333333333335, 'x[2] <= 2.5\\ngini = 0.554\\nsamples = 25\\nvalue = [1, 2, 15, 7]'),\n",
       " Text(0.2511415525114155, 0.36666666666666664, 'x[0] <= 1.5\\ngini = 0.571\\nsamples = 7\\nvalue = [1, 2, 4, 0]'),\n",
       " Text(0.2450532724505327, 0.3, 'x[1] <= 1.5\\ngini = 0.5\\nsamples = 4\\nvalue = [0, 2, 2, 0]'),\n",
       " Text(0.2420091324200913, 0.23333333333333334, 'gini = 0.5\\nsamples = 2\\nvalue = [0, 1, 1, 0]'),\n",
       " Text(0.2480974124809741, 0.23333333333333334, 'gini = 0.5\\nsamples = 2\\nvalue = [0, 1, 1, 0]'),\n",
       " Text(0.2572298325722983, 0.3, 'x[1] <= 1.5\\ngini = 0.444\\nsamples = 3\\nvalue = [1, 0, 2, 0]'),\n",
       " Text(0.2541856925418569, 0.23333333333333334, 'gini = 0.0\\nsamples = 1\\nvalue = [0, 0, 1, 0]'),\n",
       " Text(0.2602739726027397, 0.23333333333333334, 'gini = 0.5\\nsamples = 2\\nvalue = [1, 0, 1, 0]'),\n",
       " Text(0.2785388127853881, 0.36666666666666664, 'x[0] <= 1.5\\ngini = 0.475\\nsamples = 18\\nvalue = [0, 0, 11, 7]'),\n",
       " Text(0.2694063926940639, 0.3, 'x[2] <= 4.5\\ngini = 0.444\\nsamples = 9\\nvalue = [0, 0, 6, 3]'),\n",
       " Text(0.2663622526636225, 0.23333333333333334, 'x[1] <= 1.5\\ngini = 0.49\\nsamples = 7\\nvalue = [0, 0, 4, 3]'),\n",
       " Text(0.2602739726027397, 0.16666666666666666, 'x[2] <= 3.5\\ngini = 0.444\\nsamples = 3\\nvalue = [0, 0, 2, 1]'),\n",
       " Text(0.2572298325722983, 0.1, 'gini = 0.0\\nsamples = 1\\nvalue = [0, 0, 1, 0]'),\n",
       " Text(0.2633181126331811, 0.1, 'gini = 0.5\\nsamples = 2\\nvalue = [0, 0, 1, 1]'),\n",
       " Text(0.2724505327245053, 0.16666666666666666, 'x[2] <= 3.5\\ngini = 0.5\\nsamples = 4\\nvalue = [0, 0, 2, 2]'),\n",
       " Text(0.2694063926940639, 0.1, 'gini = 0.5\\nsamples = 2\\nvalue = [0, 0, 1, 1]'),\n",
       " Text(0.2754946727549467, 0.1, 'gini = 0.5\\nsamples = 2\\nvalue = [0, 0, 1, 1]'),\n",
       " Text(0.2724505327245053, 0.23333333333333334, 'gini = 0.0\\nsamples = 2\\nvalue = [0, 0, 2, 0]'),\n",
       " Text(0.2876712328767123, 0.3, 'x[1] <= 1.5\\ngini = 0.494\\nsamples = 9\\nvalue = [0, 0, 5, 4]'),\n",
       " Text(0.2815829528158295, 0.23333333333333334, 'x[2] <= 3.5\\ngini = 0.48\\nsamples = 5\\nvalue = [0, 0, 3, 2]'),\n",
       " Text(0.2785388127853881, 0.16666666666666666, 'gini = 0.0\\nsamples = 1\\nvalue = [0, 0, 1, 0]'),\n",
       " Text(0.2846270928462709, 0.16666666666666666, 'x[2] <= 4.5\\ngini = 0.5\\nsamples = 4\\nvalue = [0, 0, 2, 2]'),\n",
       " Text(0.2815829528158295, 0.1, 'gini = 0.5\\nsamples = 2\\nvalue = [0, 0, 1, 1]'),\n",
       " Text(0.2876712328767123, 0.1, 'gini = 0.5\\nsamples = 2\\nvalue = [0, 0, 1, 1]'),\n",
       " Text(0.2937595129375951, 0.23333333333333334, 'x[2] <= 3.5\\ngini = 0.5\\nsamples = 4\\nvalue = [0, 0, 2, 2]'),\n",
       " Text(0.2907153729071537, 0.16666666666666666, 'gini = 0.0\\nsamples = 1\\nvalue = [0, 0, 0, 1]'),\n",
       " Text(0.2968036529680365, 0.16666666666666666, 'x[2] <= 4.5\\ngini = 0.444\\nsamples = 3\\nvalue = [0, 0, 2, 1]'),\n",
       " Text(0.2937595129375951, 0.1, 'gini = 0.0\\nsamples = 1\\nvalue = [0, 0, 1, 0]'),\n",
       " Text(0.2998477929984779, 0.1, 'gini = 0.5\\nsamples = 2\\nvalue = [0, 0, 1, 1]'),\n",
       " Text(0.3329528158295282, 0.5666666666666667, 'x[2] <= 2.5\\ngini = 0.561\\nsamples = 37\\nvalue = [6, 9, 22, 0]'),\n",
       " Text(0.3299086757990868, 0.5, 'gini = 0.0\\nsamples = 9\\nvalue = [0, 0, 9, 0]'),\n",
       " Text(0.3359969558599696, 0.5, 'x[1] <= 0.5\\ngini = 0.635\\nsamples = 28\\nvalue = [6, 9, 13, 0]'),\n",
       " Text(0.3165905631659056, 0.43333333333333335, 'x[2] <= 4.5\\ngini = 0.5\\nsamples = 10\\nvalue = [5, 0, 5, 0]'),\n",
       " Text(0.3089802130898021, 0.36666666666666664, 'x[0] <= 1.5\\ngini = 0.49\\nsamples = 7\\nvalue = [3, 0, 4, 0]'),\n",
       " Text(0.3028919330289193, 0.3, 'x[2] <= 3.5\\ngini = 0.444\\nsamples = 3\\nvalue = [1, 0, 2, 0]'),\n",
       " Text(0.2998477929984779, 0.23333333333333334, 'gini = 0.5\\nsamples = 2\\nvalue = [1, 0, 1, 0]'),\n",
       " Text(0.3059360730593607, 0.23333333333333334, 'gini = 0.0\\nsamples = 1\\nvalue = [0, 0, 1, 0]'),\n",
       " Text(0.3150684931506849, 0.3, 'x[2] <= 3.5\\ngini = 0.5\\nsamples = 4\\nvalue = [2, 0, 2, 0]'),\n",
       " Text(0.3120243531202435, 0.23333333333333334, 'gini = 0.5\\nsamples = 2\\nvalue = [1, 0, 1, 0]'),\n",
       " Text(0.3181126331811263, 0.23333333333333334, 'gini = 0.5\\nsamples = 2\\nvalue = [1, 0, 1, 0]'),\n",
       " Text(0.3242009132420091, 0.36666666666666664, 'x[0] <= 1.5\\ngini = 0.444\\nsamples = 3\\nvalue = [2, 0, 1, 0]'),\n",
       " Text(0.3211567732115677, 0.3, 'gini = 0.5\\nsamples = 2\\nvalue = [1, 0, 1, 0]'),\n",
       " Text(0.3272450532724505, 0.3, 'gini = 0.0\\nsamples = 1\\nvalue = [1, 0, 0, 0]'),\n",
       " Text(0.3554033485540335, 0.43333333333333335, 'x[2] <= 3.5\\ngini = 0.549\\nsamples = 18\\nvalue = [1, 9, 8, 0]'),\n",
       " Text(0.3394216133942161, 0.36666666666666664, 'x[0] <= 1.5\\ngini = 0.56\\nsamples = 5\\nvalue = [1, 3, 1, 0]'),\n",
       " Text(0.3333333333333333, 0.3, 'x[1] <= 1.5\\ngini = 0.444\\nsamples = 3\\nvalue = [0, 2, 1, 0]'),\n",
       " Text(0.3302891933028919, 0.23333333333333334, 'gini = 0.5\\nsamples = 2\\nvalue = [0, 1, 1, 0]'),\n",
       " Text(0.3363774733637747, 0.23333333333333334, 'gini = 0.0\\nsamples = 1\\nvalue = [0, 1, 0, 0]'),\n",
       " Text(0.3455098934550989, 0.3, 'x[1] <= 1.5\\ngini = 0.5\\nsamples = 2\\nvalue = [1, 1, 0, 0]'),\n",
       " Text(0.3424657534246575, 0.23333333333333334, 'gini = 0.0\\nsamples = 1\\nvalue = [0, 1, 0, 0]'),\n",
       " Text(0.3485540334855403, 0.23333333333333334, 'gini = 0.0\\nsamples = 1\\nvalue = [1, 0, 0, 0]'),\n",
       " Text(0.3713850837138508, 0.36666666666666664, 'x[0] <= 1.5\\ngini = 0.497\\nsamples = 13\\nvalue = [0, 6, 7, 0]'),\n",
       " Text(0.3607305936073059, 0.3, 'x[1] <= 1.5\\ngini = 0.49\\nsamples = 7\\nvalue = [0, 4, 3, 0]'),\n",
       " Text(0.3546423135464231, 0.23333333333333334, 'x[2] <= 4.5\\ngini = 0.5\\nsamples = 4\\nvalue = [0, 2, 2, 0]'),\n",
       " Text(0.3515981735159817, 0.16666666666666666, 'gini = 0.5\\nsamples = 2\\nvalue = [0, 1, 1, 0]'),\n",
       " Text(0.3576864535768645, 0.16666666666666666, 'gini = 0.5\\nsamples = 2\\nvalue = [0, 1, 1, 0]'),\n",
       " Text(0.3668188736681887, 0.23333333333333334, 'x[2] <= 4.5\\ngini = 0.444\\nsamples = 3\\nvalue = [0, 2, 1, 0]'),\n",
       " Text(0.3637747336377473, 0.16666666666666666, 'gini = 0.0\\nsamples = 1\\nvalue = [0, 1, 0, 0]'),\n",
       " Text(0.3698630136986301, 0.16666666666666666, 'gini = 0.5\\nsamples = 2\\nvalue = [0, 1, 1, 0]'),\n",
       " Text(0.3820395738203957, 0.3, 'x[1] <= 1.5\\ngini = 0.444\\nsamples = 6\\nvalue = [0, 2, 4, 0]'),\n",
       " Text(0.3789954337899543, 0.23333333333333334, 'x[2] <= 4.5\\ngini = 0.5\\nsamples = 4\\nvalue = [0, 2, 2, 0]'),\n",
       " Text(0.3759512937595129, 0.16666666666666666, 'gini = 0.5\\nsamples = 2\\nvalue = [0, 1, 1, 0]'),\n",
       " Text(0.3820395738203957, 0.16666666666666666, 'gini = 0.5\\nsamples = 2\\nvalue = [0, 1, 1, 0]'),\n",
       " Text(0.3850837138508371, 0.23333333333333334, 'gini = 0.0\\nsamples = 2\\nvalue = [0, 0, 2, 0]'),\n",
       " Text(0.3982115677321157, 0.6333333333333333, 'x[2] <= 2.5\\ngini = 0.492\\nsamples = 32\\nvalue = [14, 0, 18, 0]'),\n",
       " Text(0.3820395738203957, 0.5666666666666667, 'x[4] <= 0.5\\ngini = 0.346\\nsamples = 9\\nvalue = [2, 0, 7, 0]'),\n",
       " Text(0.3789954337899543, 0.5, 'x[0] <= 1.5\\ngini = 0.5\\nsamples = 4\\nvalue = [2, 0, 2, 0]'),\n",
       " Text(0.3759512937595129, 0.43333333333333335, 'gini = 0.5\\nsamples = 2\\nvalue = [1, 0, 1, 0]'),\n",
       " Text(0.3820395738203957, 0.43333333333333335, 'gini = 0.5\\nsamples = 2\\nvalue = [1, 0, 1, 0]'),\n",
       " Text(0.3850837138508371, 0.5, 'gini = 0.0\\nsamples = 5\\nvalue = [0, 0, 5, 0]'),\n",
       " Text(0.4143835616438356, 0.5666666666666667, 'x[2] <= 3.5\\ngini = 0.499\\nsamples = 23\\nvalue = [12, 0, 11, 0]'),\n",
       " Text(0.3942161339421613, 0.5, 'x[4] <= 1.5\\ngini = 0.49\\nsamples = 7\\nvalue = [3, 0, 4, 0]'),\n",
       " Text(0.3881278538812785, 0.43333333333333335, 'x[0] <= 1.5\\ngini = 0.375\\nsamples = 4\\nvalue = [1, 0, 3, 0]'),\n",
       " Text(0.3850837138508371, 0.36666666666666664, 'gini = 0.0\\nsamples = 1\\nvalue = [0, 0, 1, 0]'),\n",
       " Text(0.3911719939117199, 0.36666666666666664, 'x[4] <= 0.5\\ngini = 0.444\\nsamples = 3\\nvalue = [1, 0, 2, 0]'),\n",
       " Text(0.3881278538812785, 0.3, 'gini = 0.0\\nsamples = 1\\nvalue = [0, 0, 1, 0]'),\n",
       " Text(0.3942161339421613, 0.3, 'gini = 0.5\\nsamples = 2\\nvalue = [1, 0, 1, 0]'),\n",
       " Text(0.4003044140030441, 0.43333333333333335, 'x[0] <= 1.5\\ngini = 0.444\\nsamples = 3\\nvalue = [2, 0, 1, 0]'),\n",
       " Text(0.3972602739726027, 0.36666666666666664, 'gini = 0.0\\nsamples = 1\\nvalue = [1, 0, 0, 0]'),\n",
       " Text(0.4033485540334855, 0.36666666666666664, 'gini = 0.5\\nsamples = 2\\nvalue = [1, 0, 1, 0]'),\n",
       " Text(0.4345509893455099, 0.5, 'x[4] <= 1.5\\ngini = 0.492\\nsamples = 16\\nvalue = [9, 0, 7, 0]'),\n",
       " Text(0.4200913242009132, 0.43333333333333335, 'x[2] <= 4.5\\ngini = 0.463\\nsamples = 11\\nvalue = [7, 0, 4, 0]'),\n",
       " Text(0.4094368340943683, 0.36666666666666664, 'x[0] <= 1.5\\ngini = 0.32\\nsamples = 5\\nvalue = [4, 0, 1, 0]'),\n",
       " Text(0.4063926940639269, 0.3, 'gini = 0.0\\nsamples = 2\\nvalue = [2, 0, 0, 0]'),\n",
       " Text(0.4124809741248097, 0.3, 'x[4] <= 0.5\\ngini = 0.444\\nsamples = 3\\nvalue = [2, 0, 1, 0]'),\n",
       " Text(0.4094368340943683, 0.23333333333333334, 'gini = 0.5\\nsamples = 2\\nvalue = [1, 0, 1, 0]'),\n",
       " Text(0.4155251141552511, 0.23333333333333334, 'gini = 0.0\\nsamples = 1\\nvalue = [1, 0, 0, 0]'),\n",
       " Text(0.4307458143074581, 0.36666666666666664, 'x[4] <= 0.5\\ngini = 0.5\\nsamples = 6\\nvalue = [3, 0, 3, 0]'),\n",
       " Text(0.4246575342465753, 0.3, 'x[0] <= 1.5\\ngini = 0.444\\nsamples = 3\\nvalue = [2, 0, 1, 0]'),\n",
       " Text(0.4216133942161339, 0.23333333333333334, 'gini = 0.5\\nsamples = 2\\nvalue = [1, 0, 1, 0]'),\n",
       " Text(0.4277016742770167, 0.23333333333333334, 'gini = 0.0\\nsamples = 1\\nvalue = [1, 0, 0, 0]'),\n",
       " Text(0.4368340943683409, 0.3, 'x[0] <= 1.5\\ngini = 0.444\\nsamples = 3\\nvalue = [1, 0, 2, 0]'),\n",
       " Text(0.4337899543378995, 0.23333333333333334, 'gini = 0.0\\nsamples = 1\\nvalue = [0, 0, 1, 0]'),\n",
       " Text(0.4398782343987823, 0.23333333333333334, 'gini = 0.5\\nsamples = 2\\nvalue = [1, 0, 1, 0]'),\n",
       " Text(0.4490106544901065, 0.43333333333333335, 'x[0] <= 1.5\\ngini = 0.48\\nsamples = 5\\nvalue = [2, 0, 3, 0]'),\n",
       " Text(0.4459665144596651, 0.36666666666666664, 'x[2] <= 4.5\\ngini = 0.444\\nsamples = 3\\nvalue = [1, 0, 2, 0]'),\n",
       " Text(0.4429223744292237, 0.3, 'gini = 0.0\\nsamples = 1\\nvalue = [0, 0, 1, 0]'),\n",
       " Text(0.4490106544901065, 0.3, 'gini = 0.5\\nsamples = 2\\nvalue = [1, 0, 1, 0]'),\n",
       " Text(0.4520547945205479, 0.36666666666666664, 'gini = 0.5\\nsamples = 2\\nvalue = [1, 0, 1, 0]'),\n",
       " Text(0.475076103500761, 0.7666666666666667, 'x[1] <= 0.5\\ngini = 0.301\\nsamples = 65\\nvalue = [12, 0, 53, 0]'),\n",
       " Text(0.4720319634703196, 0.7, 'gini = 0.0\\nsamples = 19\\nvalue = [0, 0, 19, 0]'),\n",
       " Text(0.4781202435312024, 0.7, 'x[1] <= 2.5\\ngini = 0.386\\nsamples = 46\\nvalue = [12, 0, 34, 0]'),\n",
       " Text(0.475076103500761, 0.6333333333333333, 'x[2] <= 2.5\\ngini = 0.475\\nsamples = 31\\nvalue = [12, 0, 19, 0]'),\n",
       " Text(0.4550989345509893, 0.5666666666666667, 'x[1] <= 1.5\\ngini = 0.219\\nsamples = 8\\nvalue = [1, 0, 7, 0]'),\n",
       " Text(0.4520547945205479, 0.5, 'gini = 0.0\\nsamples = 4\\nvalue = [0, 0, 4, 0]'),\n",
       " Text(0.4581430745814307, 0.5, 'x[4] <= 0.5\\ngini = 0.375\\nsamples = 4\\nvalue = [1, 0, 3, 0]'),\n",
       " Text(0.4550989345509893, 0.43333333333333335, 'gini = 0.0\\nsamples = 1\\nvalue = [0, 0, 1, 0]'),\n",
       " Text(0.4611872146118721, 0.43333333333333335, 'x[4] <= 1.5\\ngini = 0.444\\nsamples = 3\\nvalue = [1, 0, 2, 0]'),\n",
       " Text(0.4581430745814307, 0.36666666666666664, 'gini = 0.5\\nsamples = 2\\nvalue = [1, 0, 1, 0]'),\n",
       " Text(0.4642313546423135, 0.36666666666666664, 'gini = 0.0\\nsamples = 1\\nvalue = [0, 0, 1, 0]'),\n",
       " Text(0.4950532724505327, 0.5666666666666667, 'x[2] <= 3.5\\ngini = 0.499\\nsamples = 23\\nvalue = [11, 0, 12, 0]'),\n",
       " Text(0.4794520547945205, 0.5, 'x[1] <= 1.5\\ngini = 0.49\\nsamples = 7\\nvalue = [3, 0, 4, 0]'),\n",
       " Text(0.4733637747336377, 0.43333333333333335, 'x[4] <= 0.5\\ngini = 0.444\\nsamples = 3\\nvalue = [2, 0, 1, 0]'),\n",
       " Text(0.4703196347031963, 0.36666666666666664, 'gini = 0.5\\nsamples = 2\\nvalue = [1, 0, 1, 0]'),\n",
       " Text(0.4764079147640791, 0.36666666666666664, 'gini = 0.0\\nsamples = 1\\nvalue = [1, 0, 0, 0]'),\n",
       " Text(0.4855403348554033, 0.43333333333333335, 'x[4] <= 1.5\\ngini = 0.375\\nsamples = 4\\nvalue = [1, 0, 3, 0]'),\n",
       " Text(0.4824961948249619, 0.36666666666666664, 'gini = 0.0\\nsamples = 2\\nvalue = [0, 0, 2, 0]'),\n",
       " Text(0.4885844748858447, 0.36666666666666664, 'gini = 0.5\\nsamples = 2\\nvalue = [1, 0, 1, 0]'),\n",
       " Text(0.510654490106545, 0.5, 'x[4] <= 0.5\\ngini = 0.5\\nsamples = 16\\nvalue = [8, 0, 8, 0]'),\n",
       " Text(0.4977168949771689, 0.43333333333333335, 'x[2] <= 4.5\\ngini = 0.48\\nsamples = 5\\nvalue = [3, 0, 2, 0]'),\n",
       " Text(0.4946727549467275, 0.36666666666666664, 'gini = 0.5\\nsamples = 2\\nvalue = [1, 0, 1, 0]'),\n",
       " Text(0.5007610350076104, 0.36666666666666664, 'x[1] <= 1.5\\ngini = 0.444\\nsamples = 3\\nvalue = [2, 0, 1, 0]'),\n",
       " Text(0.4977168949771689, 0.3, 'gini = 0.5\\nsamples = 2\\nvalue = [1, 0, 1, 0]'),\n",
       " Text(0.5038051750380518, 0.3, 'gini = 0.0\\nsamples = 1\\nvalue = [1, 0, 0, 0]'),\n",
       " Text(0.5235920852359208, 0.43333333333333335, 'x[1] <= 1.5\\ngini = 0.496\\nsamples = 11\\nvalue = [5, 0, 6, 0]'),\n",
       " Text(0.512937595129376, 0.36666666666666664, 'x[4] <= 1.5\\ngini = 0.48\\nsamples = 5\\nvalue = [2, 0, 3, 0]'),\n",
       " Text(0.5098934550989346, 0.3, 'gini = 0.0\\nsamples = 1\\nvalue = [0, 0, 1, 0]'),\n",
       " Text(0.5159817351598174, 0.3, 'x[2] <= 4.5\\ngini = 0.5\\nsamples = 4\\nvalue = [2, 0, 2, 0]'),\n",
       " Text(0.512937595129376, 0.23333333333333334, 'gini = 0.5\\nsamples = 2\\nvalue = [1, 0, 1, 0]'),\n",
       " Text(0.5190258751902588, 0.23333333333333334, 'gini = 0.5\\nsamples = 2\\nvalue = [1, 0, 1, 0]'),\n",
       " Text(0.5342465753424658, 0.36666666666666664, 'x[4] <= 1.5\\ngini = 0.5\\nsamples = 6\\nvalue = [3, 0, 3, 0]'),\n",
       " Text(0.528158295281583, 0.3, 'x[2] <= 4.5\\ngini = 0.444\\nsamples = 3\\nvalue = [2, 0, 1, 0]'),\n",
       " Text(0.5251141552511416, 0.23333333333333334, 'gini = 0.5\\nsamples = 2\\nvalue = [1, 0, 1, 0]'),\n",
       " Text(0.5312024353120244, 0.23333333333333334, 'gini = 0.0\\nsamples = 1\\nvalue = [1, 0, 0, 0]'),\n",
       " Text(0.5403348554033486, 0.3, 'x[2] <= 4.5\\ngini = 0.444\\nsamples = 3\\nvalue = [1, 0, 2, 0]'),\n",
       " Text(0.5372907153729072, 0.23333333333333334, 'gini = 0.5\\nsamples = 2\\nvalue = [1, 0, 1, 0]'),\n",
       " Text(0.54337899543379, 0.23333333333333334, 'gini = 0.0\\nsamples = 1\\nvalue = [0, 0, 1, 0]'),\n",
       " Text(0.4811643835616438, 0.6333333333333333, 'gini = 0.0\\nsamples = 15\\nvalue = [0, 0, 15, 0]'),\n",
       " Text(0.5524162861491628, 0.8333333333333334, 'x[0] <= 2.5\\ngini = 0.634\\nsamples = 126\\nvalue = [68, 13, 25, 20]'),\n",
       " Text(0.5393835616438356, 0.7666666666666667, 'x[0] <= 0.5\\ngini = 0.578\\nsamples = 97\\nvalue = [58, 13, 6, 20]'),\n",
       " Text(0.5296803652968036, 0.7, 'x[1] <= 2.5\\ngini = 0.298\\nsamples = 33\\nvalue = [27, 0, 6, 0]'),\n",
       " Text(0.5266362252663622, 0.6333333333333333, 'gini = 0.0\\nsamples = 27\\nvalue = [27, 0, 0, 0]'),\n",
       " Text(0.532724505327245, 0.6333333333333333, 'gini = 0.0\\nsamples = 6\\nvalue = [0, 0, 6, 0]'),\n",
       " Text(0.5490867579908676, 0.7, 'x[4] <= 0.5\\ngini = 0.626\\nsamples = 64\\nvalue = [31, 13, 0, 20]'),\n",
       " Text(0.5388127853881278, 0.6333333333333333, 'x[1] <= 2.5\\ngini = 0.434\\nsamples = 22\\nvalue = [7, 0, 0, 15]'),\n",
       " Text(0.5357686453576864, 0.5666666666666667, 'x[1] <= 0.5\\ngini = 0.278\\nsamples = 18\\nvalue = [3, 0, 0, 15]'),\n",
       " Text(0.532724505327245, 0.5, 'x[0] <= 1.5\\ngini = 0.5\\nsamples = 6\\nvalue = [3, 0, 0, 3]'),\n",
       " Text(0.5296803652968036, 0.43333333333333335, 'gini = 0.0\\nsamples = 3\\nvalue = [0, 0, 0, 3]'),\n",
       " Text(0.5357686453576864, 0.43333333333333335, 'gini = 0.0\\nsamples = 3\\nvalue = [3, 0, 0, 0]'),\n",
       " Text(0.5388127853881278, 0.5, 'gini = 0.0\\nsamples = 12\\nvalue = [0, 0, 0, 12]'),\n",
       " Text(0.5418569254185692, 0.5666666666666667, 'gini = 0.0\\nsamples = 4\\nvalue = [4, 0, 0, 0]'),\n",
       " Text(0.5593607305936074, 0.6333333333333333, 'x[1] <= 2.5\\ngini = 0.563\\nsamples = 42\\nvalue = [24, 13, 0, 5]'),\n",
       " Text(0.556316590563166, 0.5666666666666667, 'x[1] <= 0.5\\ngini = 0.615\\nsamples = 33\\nvalue = [15, 13, 0, 5]'),\n",
       " Text(0.5449010654490106, 0.5, 'x[2] <= 4.5\\ngini = 0.165\\nsamples = 11\\nvalue = [10, 0, 0, 1]'),\n",
       " Text(0.5418569254185692, 0.43333333333333335, 'gini = 0.0\\nsamples = 8\\nvalue = [8, 0, 0, 0]'),\n",
       " Text(0.547945205479452, 0.43333333333333335, 'x[0] <= 1.5\\ngini = 0.444\\nsamples = 3\\nvalue = [2, 0, 0, 1]'),\n",
       " Text(0.5449010654490106, 0.36666666666666664, 'gini = 0.0\\nsamples = 1\\nvalue = [0, 0, 0, 1]'),\n",
       " Text(0.5509893455098934, 0.36666666666666664, 'gini = 0.0\\nsamples = 2\\nvalue = [2, 0, 0, 0]'),\n",
       " Text(0.5677321156773212, 0.5, 'x[1] <= 1.5\\ngini = 0.566\\nsamples = 22\\nvalue = [5, 13, 0, 4]'),\n",
       " Text(0.5601217656012176, 0.43333333333333335, 'x[4] <= 1.5\\ngini = 0.32\\nsamples = 10\\nvalue = [0, 8, 0, 2]'),\n",
       " Text(0.5570776255707762, 0.36666666666666664, 'x[2] <= 3.5\\ngini = 0.5\\nsamples = 4\\nvalue = [0, 2, 0, 2]'),\n",
       " Text(0.5540334855403348, 0.3, 'gini = 0.0\\nsamples = 2\\nvalue = [0, 2, 0, 0]'),\n",
       " Text(0.5601217656012176, 0.3, 'gini = 0.0\\nsamples = 2\\nvalue = [0, 0, 0, 2]'),\n",
       " Text(0.563165905631659, 0.36666666666666664, 'gini = 0.0\\nsamples = 6\\nvalue = [0, 6, 0, 0]'),\n",
       " Text(0.5753424657534246, 0.43333333333333335, 'x[0] <= 1.5\\ngini = 0.625\\nsamples = 12\\nvalue = [5, 5, 0, 2]'),\n",
       " Text(0.5692541856925418, 0.36666666666666664, 'x[4] <= 1.5\\ngini = 0.278\\nsamples = 6\\nvalue = [0, 5, 0, 1]'),\n",
       " Text(0.5662100456621004, 0.3, 'x[2] <= 3.5\\ngini = 0.444\\nsamples = 3\\nvalue = [0, 2, 0, 1]'),\n",
       " Text(0.563165905631659, 0.23333333333333334, 'gini = 0.0\\nsamples = 2\\nvalue = [0, 2, 0, 0]'),\n",
       " Text(0.5692541856925418, 0.23333333333333334, 'gini = 0.0\\nsamples = 1\\nvalue = [0, 0, 0, 1]'),\n",
       " Text(0.5722983257229832, 0.3, 'gini = 0.0\\nsamples = 3\\nvalue = [0, 3, 0, 0]'),\n",
       " Text(0.5814307458143074, 0.36666666666666664, 'x[4] <= 1.5\\ngini = 0.278\\nsamples = 6\\nvalue = [5, 0, 0, 1]'),\n",
       " Text(0.578386605783866, 0.3, 'x[2] <= 3.0\\ngini = 0.5\\nsamples = 2\\nvalue = [1, 0, 0, 1]'),\n",
       " Text(0.5753424657534246, 0.23333333333333334, 'gini = 0.0\\nsamples = 1\\nvalue = [1, 0, 0, 0]'),\n",
       " Text(0.5814307458143074, 0.23333333333333334, 'gini = 0.0\\nsamples = 1\\nvalue = [0, 0, 0, 1]'),\n",
       " Text(0.5844748858447488, 0.3, 'gini = 0.0\\nsamples = 4\\nvalue = [4, 0, 0, 0]'),\n",
       " Text(0.5624048706240488, 0.5666666666666667, 'gini = 0.0\\nsamples = 9\\nvalue = [9, 0, 0, 0]'),\n",
       " Text(0.5654490106544902, 0.7666666666666667, 'x[1] <= 0.5\\ngini = 0.452\\nsamples = 29\\nvalue = [10, 0, 19, 0]'),\n",
       " Text(0.5624048706240488, 0.7, 'gini = 0.0\\nsamples = 10\\nvalue = [0, 0, 10, 0]'),\n",
       " Text(0.5684931506849316, 0.7, 'x[1] <= 2.5\\ngini = 0.499\\nsamples = 19\\nvalue = [10, 0, 9, 0]'),\n",
       " Text(0.5654490106544902, 0.6333333333333333, 'gini = 0.0\\nsamples = 10\\nvalue = [10, 0, 0, 0]'),\n",
       " Text(0.571537290715373, 0.6333333333333333, 'gini = 0.0\\nsamples = 9\\nvalue = [0, 0, 9, 0]'),\n",
       " Text(0.914814616628615, 0.9, 'x[5] <= 1.5\\ngini = 0.318\\nsamples = 813\\nvalue = [130, 25, 658, 0]'),\n",
       " Text(0.9117704765981736, 0.8333333333333334, 'gini = 0.0\\nsamples = 419\\nvalue = [0, 0, 419, 0]'),\n",
       " Text(0.9178587566590564, 0.8333333333333334, 'x[4] <= 1.5\\ngini = 0.519\\nsamples = 394\\nvalue = [130, 25, 239, 0]'),\n",
       " Text(0.8602608923135464, 0.7666666666666667, 'x[3] <= 3.0\\ngini = 0.58\\nsamples = 259\\nvalue = [107, 25, 127, 0]'),\n",
       " Text(0.7998596841704718, 0.7, 'x[1] <= 2.5\\ngini = 0.524\\nsamples = 165\\nvalue = [51, 13, 101, 0]'),\n",
       " Text(0.7382277397260274, 0.6333333333333333, 'x[0] <= 2.5\\ngini = 0.575\\nsamples = 122\\nvalue = [44, 13, 65, 0]'),\n",
       " Text(0.674705098934551, 0.5666666666666667, 'x[1] <= 0.5\\ngini = 0.613\\nsamples = 88\\nvalue = [35, 13, 40, 0]'),\n",
       " Text(0.6295662100456622, 0.5, 'x[2] <= 4.5\\ngini = 0.499\\nsamples = 31\\nvalue = [16, 0, 15, 0]'),\n",
       " Text(0.6092085235920852, 0.43333333333333335, 'x[2] <= 2.5\\ngini = 0.493\\nsamples = 25\\nvalue = [11, 0, 14, 0]'),\n",
       " Text(0.593607305936073, 0.36666666666666664, 'x[0] <= 0.5\\ngini = 0.444\\nsamples = 9\\nvalue = [3, 0, 6, 0]'),\n",
       " Text(0.5905631659056316, 0.3, 'gini = 0.0\\nsamples = 3\\nvalue = [0, 0, 3, 0]'),\n",
       " Text(0.5966514459665144, 0.3, 'x[4] <= 0.5\\ngini = 0.5\\nsamples = 6\\nvalue = [3, 0, 3, 0]'),\n",
       " Text(0.5905631659056316, 0.23333333333333334, 'x[0] <= 1.5\\ngini = 0.444\\nsamples = 3\\nvalue = [2, 0, 1, 0]'),\n",
       " Text(0.5875190258751902, 0.16666666666666666, 'gini = 0.5\\nsamples = 2\\nvalue = [1, 0, 1, 0]'),\n",
       " Text(0.593607305936073, 0.16666666666666666, 'gini = 0.0\\nsamples = 1\\nvalue = [1, 0, 0, 0]'),\n",
       " Text(0.6027397260273972, 0.23333333333333334, 'x[0] <= 1.5\\ngini = 0.444\\nsamples = 3\\nvalue = [1, 0, 2, 0]'),\n",
       " Text(0.5996955859969558, 0.16666666666666666, 'gini = 0.0\\nsamples = 1\\nvalue = [1, 0, 0, 0]'),\n",
       " Text(0.6057838660578386, 0.16666666666666666, 'gini = 0.0\\nsamples = 2\\nvalue = [0, 0, 2, 0]'),\n",
       " Text(0.6248097412480974, 0.36666666666666664, 'x[0] <= 0.5\\ngini = 0.5\\nsamples = 16\\nvalue = [8, 0, 8, 0]'),\n",
       " Text(0.6118721461187214, 0.3, 'x[2] <= 3.5\\ngini = 0.375\\nsamples = 4\\nvalue = [3, 0, 1, 0]'),\n",
       " Text(0.60882800608828, 0.23333333333333334, 'gini = 0.0\\nsamples = 2\\nvalue = [2, 0, 0, 0]'),\n",
       " Text(0.6149162861491628, 0.23333333333333334, 'x[4] <= 0.5\\ngini = 0.5\\nsamples = 2\\nvalue = [1, 0, 1, 0]'),\n",
       " Text(0.6118721461187214, 0.16666666666666666, 'gini = 0.0\\nsamples = 1\\nvalue = [1, 0, 0, 0]'),\n",
       " Text(0.6179604261796042, 0.16666666666666666, 'gini = 0.0\\nsamples = 1\\nvalue = [0, 0, 1, 0]'),\n",
       " Text(0.6377473363774734, 0.3, 'x[4] <= 0.5\\ngini = 0.486\\nsamples = 12\\nvalue = [5, 0, 7, 0]'),\n",
       " Text(0.6270928462709284, 0.23333333333333334, 'x[2] <= 3.5\\ngini = 0.32\\nsamples = 5\\nvalue = [1, 0, 4, 0]'),\n",
       " Text(0.624048706240487, 0.16666666666666666, 'gini = 0.0\\nsamples = 2\\nvalue = [0, 0, 2, 0]'),\n",
       " Text(0.6301369863013698, 0.16666666666666666, 'x[0] <= 1.5\\ngini = 0.444\\nsamples = 3\\nvalue = [1, 0, 2, 0]'),\n",
       " Text(0.6270928462709284, 0.1, 'gini = 0.0\\nsamples = 1\\nvalue = [0, 0, 1, 0]'),\n",
       " Text(0.6331811263318112, 0.1, 'gini = 0.5\\nsamples = 2\\nvalue = [1, 0, 1, 0]'),\n",
       " Text(0.6484018264840182, 0.23333333333333334, 'x[2] <= 3.5\\ngini = 0.49\\nsamples = 7\\nvalue = [4, 0, 3, 0]'),\n",
       " Text(0.6423135464231354, 0.16666666666666666, 'x[0] <= 1.5\\ngini = 0.5\\nsamples = 4\\nvalue = [2, 0, 2, 0]'),\n",
       " Text(0.639269406392694, 0.1, 'gini = 0.5\\nsamples = 2\\nvalue = [1, 0, 1, 0]'),\n",
       " Text(0.6453576864535768, 0.1, 'gini = 0.5\\nsamples = 2\\nvalue = [1, 0, 1, 0]'),\n",
       " Text(0.654490106544901, 0.16666666666666666, 'x[0] <= 1.5\\ngini = 0.444\\nsamples = 3\\nvalue = [2, 0, 1, 0]'),\n",
       " Text(0.6514459665144596, 0.1, 'gini = 0.0\\nsamples = 1\\nvalue = [1, 0, 0, 0]'),\n",
       " Text(0.6575342465753424, 0.1, 'gini = 0.5\\nsamples = 2\\nvalue = [1, 0, 1, 0]'),\n",
       " Text(0.649923896499239, 0.43333333333333335, 'x[4] <= 0.5\\ngini = 0.278\\nsamples = 6\\nvalue = [5, 0, 1, 0]'),\n",
       " Text(0.6468797564687976, 0.36666666666666664, 'x[0] <= 1.5\\ngini = 0.444\\nsamples = 3\\nvalue = [2, 0, 1, 0]'),\n",
       " Text(0.6438356164383562, 0.3, 'gini = 0.5\\nsamples = 2\\nvalue = [1, 0, 1, 0]'),\n",
       " Text(0.649923896499239, 0.3, 'gini = 0.0\\nsamples = 1\\nvalue = [1, 0, 0, 0]'),\n",
       " Text(0.6529680365296804, 0.36666666666666664, 'gini = 0.0\\nsamples = 3\\nvalue = [3, 0, 0, 0]'),\n",
       " Text(0.7198439878234398, 0.5, 'x[0] <= 0.5\\ngini = 0.645\\nsamples = 57\\nvalue = [19, 13, 25, 0]'),\n",
       " Text(0.6917808219178082, 0.43333333333333335, 'x[2] <= 3.5\\ngini = 0.495\\nsamples = 20\\nvalue = [11, 0, 9, 0]'),\n",
       " Text(0.6773211567732116, 0.36666666666666664, 'x[4] <= 0.5\\ngini = 0.463\\nsamples = 11\\nvalue = [4, 0, 7, 0]'),\n",
       " Text(0.669710806697108, 0.3, 'x[1] <= 1.5\\ngini = 0.5\\nsamples = 6\\nvalue = [3, 0, 3, 0]'),\n",
       " Text(0.6636225266362252, 0.23333333333333334, 'x[2] <= 2.5\\ngini = 0.444\\nsamples = 3\\nvalue = [1, 0, 2, 0]'),\n",
       " Text(0.6605783866057838, 0.16666666666666666, 'gini = 0.5\\nsamples = 2\\nvalue = [1, 0, 1, 0]'),\n",
       " Text(0.6666666666666666, 0.16666666666666666, 'gini = 0.0\\nsamples = 1\\nvalue = [0, 0, 1, 0]'),\n",
       " Text(0.6757990867579908, 0.23333333333333334, 'x[2] <= 2.5\\ngini = 0.444\\nsamples = 3\\nvalue = [2, 0, 1, 0]'),\n",
       " Text(0.6727549467275494, 0.16666666666666666, 'gini = 0.5\\nsamples = 2\\nvalue = [1, 0, 1, 0]'),\n",
       " Text(0.6788432267884322, 0.16666666666666666, 'gini = 0.0\\nsamples = 1\\nvalue = [1, 0, 0, 0]'),\n",
       " Text(0.684931506849315, 0.3, 'x[2] <= 2.5\\ngini = 0.32\\nsamples = 5\\nvalue = [1, 0, 4, 0]'),\n",
       " Text(0.6818873668188736, 0.23333333333333334, 'gini = 0.0\\nsamples = 3\\nvalue = [0, 0, 3, 0]'),\n",
       " Text(0.6879756468797564, 0.23333333333333334, 'x[1] <= 1.5\\ngini = 0.5\\nsamples = 2\\nvalue = [1, 0, 1, 0]'),\n",
       " Text(0.684931506849315, 0.16666666666666666, 'gini = 0.0\\nsamples = 1\\nvalue = [1, 0, 0, 0]'),\n",
       " Text(0.6910197869101978, 0.16666666666666666, 'gini = 0.0\\nsamples = 1\\nvalue = [0, 0, 1, 0]'),\n",
       " Text(0.7062404870624048, 0.36666666666666664, 'x[4] <= 0.5\\ngini = 0.346\\nsamples = 9\\nvalue = [7, 0, 2, 0]'),\n",
       " Text(0.7031963470319634, 0.3, 'x[1] <= 1.5\\ngini = 0.48\\nsamples = 5\\nvalue = [3, 0, 2, 0]'),\n",
       " Text(0.700152207001522, 0.23333333333333334, 'x[2] <= 4.5\\ngini = 0.444\\nsamples = 3\\nvalue = [1, 0, 2, 0]'),\n",
       " Text(0.6971080669710806, 0.16666666666666666, 'gini = 0.5\\nsamples = 2\\nvalue = [1, 0, 1, 0]'),\n",
       " Text(0.7031963470319634, 0.16666666666666666, 'gini = 0.0\\nsamples = 1\\nvalue = [0, 0, 1, 0]'),\n",
       " Text(0.7062404870624048, 0.23333333333333334, 'gini = 0.0\\nsamples = 2\\nvalue = [2, 0, 0, 0]'),\n",
       " Text(0.7092846270928462, 0.3, 'gini = 0.0\\nsamples = 4\\nvalue = [4, 0, 0, 0]'),\n",
       " Text(0.7479071537290716, 0.43333333333333335, 'x[0] <= 1.5\\ngini = 0.643\\nsamples = 37\\nvalue = [8, 13, 16, 0]'),\n",
       " Text(0.724124809741248, 0.36666666666666664, 'x[2] <= 2.5\\ngini = 0.548\\nsamples = 19\\nvalue = [1, 9, 9, 0]'),\n",
       " Text(0.715372907153729, 0.3, 'x[4] <= 0.5\\ngini = 0.5\\nsamples = 2\\nvalue = [1, 1, 0, 0]'),\n",
       " Text(0.7123287671232876, 0.23333333333333334, 'gini = 0.0\\nsamples = 1\\nvalue = [0, 1, 0, 0]'),\n",
       " Text(0.7184170471841704, 0.23333333333333334, 'gini = 0.0\\nsamples = 1\\nvalue = [1, 0, 0, 0]'),\n",
       " Text(0.7328767123287672, 0.3, 'x[2] <= 4.5\\ngini = 0.498\\nsamples = 17\\nvalue = [0, 8, 9, 0]'),\n",
       " Text(0.7245053272450532, 0.23333333333333334, 'x[2] <= 3.5\\ngini = 0.497\\nsamples = 13\\nvalue = [0, 7, 6, 0]'),\n",
       " Text(0.7168949771689498, 0.16666666666666666, 'x[1] <= 1.5\\ngini = 0.49\\nsamples = 7\\nvalue = [0, 4, 3, 0]'),\n",
       " Text(0.710806697108067, 0.1, 'x[4] <= 0.5\\ngini = 0.5\\nsamples = 4\\nvalue = [0, 2, 2, 0]'),\n",
       " Text(0.7077625570776256, 0.03333333333333333, 'gini = 0.5\\nsamples = 2\\nvalue = [0, 1, 1, 0]'),\n",
       " Text(0.7138508371385084, 0.03333333333333333, 'gini = 0.5\\nsamples = 2\\nvalue = [0, 1, 1, 0]'),\n",
       " Text(0.7229832572298326, 0.1, 'x[4] <= 0.5\\ngini = 0.444\\nsamples = 3\\nvalue = [0, 2, 1, 0]'),\n",
       " Text(0.7199391171993912, 0.03333333333333333, 'gini = 0.5\\nsamples = 2\\nvalue = [0, 1, 1, 0]'),\n",
       " Text(0.726027397260274, 0.03333333333333333, 'gini = 0.0\\nsamples = 1\\nvalue = [0, 1, 0, 0]'),\n",
       " Text(0.7321156773211568, 0.16666666666666666, 'x[4] <= 0.5\\ngini = 0.5\\nsamples = 6\\nvalue = [0, 3, 3, 0]'),\n",
       " Text(0.7290715372907154, 0.1, 'gini = 0.5\\nsamples = 2\\nvalue = [0, 1, 1, 0]'),\n",
       " Text(0.7351598173515982, 0.1, 'x[1] <= 1.5\\ngini = 0.5\\nsamples = 4\\nvalue = [0, 2, 2, 0]'),\n",
       " Text(0.7321156773211568, 0.03333333333333333, 'gini = 0.5\\nsamples = 2\\nvalue = [0, 1, 1, 0]'),\n",
       " Text(0.7382039573820396, 0.03333333333333333, 'gini = 0.5\\nsamples = 2\\nvalue = [0, 1, 1, 0]'),\n",
       " Text(0.741248097412481, 0.23333333333333334, 'x[4] <= 0.5\\ngini = 0.375\\nsamples = 4\\nvalue = [0, 1, 3, 0]'),\n",
       " Text(0.7382039573820396, 0.16666666666666666, 'gini = 0.0\\nsamples = 1\\nvalue = [0, 0, 1, 0]'),\n",
       " Text(0.7442922374429224, 0.16666666666666666, 'x[1] <= 1.5\\ngini = 0.444\\nsamples = 3\\nvalue = [0, 1, 2, 0]'),\n",
       " Text(0.741248097412481, 0.1, 'gini = 0.0\\nsamples = 1\\nvalue = [0, 0, 1, 0]'),\n",
       " Text(0.7473363774733638, 0.1, 'gini = 0.5\\nsamples = 2\\nvalue = [0, 1, 1, 0]'),\n",
       " Text(0.771689497716895, 0.36666666666666664, 'x[1] <= 1.5\\ngini = 0.648\\nsamples = 18\\nvalue = [7, 4, 7, 0]'),\n",
       " Text(0.7595129375951294, 0.3, 'x[2] <= 2.5\\ngini = 0.594\\nsamples = 8\\nvalue = [1, 4, 3, 0]'),\n",
       " Text(0.7534246575342466, 0.23333333333333334, 'x[4] <= 0.5\\ngini = 0.667\\nsamples = 3\\nvalue = [1, 1, 1, 0]'),\n",
       " Text(0.7503805175038052, 0.16666666666666666, 'gini = 0.5\\nsamples = 2\\nvalue = [0, 1, 1, 0]'),\n",
       " Text(0.756468797564688, 0.16666666666666666, 'gini = 0.0\\nsamples = 1\\nvalue = [1, 0, 0, 0]'),\n",
       " Text(0.7656012176560122, 0.23333333333333334, 'x[2] <= 3.5\\ngini = 0.48\\nsamples = 5\\nvalue = [0, 3, 2, 0]'),\n",
       " Text(0.7625570776255708, 0.16666666666666666, 'gini = 0.5\\nsamples = 2\\nvalue = [0, 1, 1, 0]'),\n",
       " Text(0.7686453576864536, 0.16666666666666666, 'x[2] <= 4.5\\ngini = 0.444\\nsamples = 3\\nvalue = [0, 2, 1, 0]'),\n",
       " Text(0.7656012176560122, 0.1, 'gini = 0.0\\nsamples = 1\\nvalue = [0, 1, 0, 0]'),\n",
       " Text(0.771689497716895, 0.1, 'gini = 0.5\\nsamples = 2\\nvalue = [0, 1, 1, 0]'),\n",
       " Text(0.7838660578386606, 0.3, 'x[2] <= 2.5\\ngini = 0.48\\nsamples = 10\\nvalue = [6, 0, 4, 0]'),\n",
       " Text(0.7808219178082192, 0.23333333333333334, 'gini = 0.0\\nsamples = 2\\nvalue = [0, 0, 2, 0]'),\n",
       " Text(0.786910197869102, 0.23333333333333334, 'x[2] <= 3.5\\ngini = 0.375\\nsamples = 8\\nvalue = [6, 0, 2, 0]'),\n",
       " Text(0.7808219178082192, 0.16666666666666666, 'x[4] <= 0.5\\ngini = 0.444\\nsamples = 3\\nvalue = [2, 0, 1, 0]'),\n",
       " Text(0.7777777777777778, 0.1, 'gini = 0.0\\nsamples = 1\\nvalue = [1, 0, 0, 0]'),\n",
       " Text(0.7838660578386606, 0.1, 'gini = 0.5\\nsamples = 2\\nvalue = [1, 0, 1, 0]'),\n",
       " Text(0.7929984779299848, 0.16666666666666666, 'x[2] <= 4.5\\ngini = 0.32\\nsamples = 5\\nvalue = [4, 0, 1, 0]'),\n",
       " Text(0.7899543378995434, 0.1, 'gini = 0.0\\nsamples = 2\\nvalue = [2, 0, 0, 0]'),\n",
       " Text(0.7960426179604262, 0.1, 'x[4] <= 0.5\\ngini = 0.444\\nsamples = 3\\nvalue = [2, 0, 1, 0]'),\n",
       " Text(0.7929984779299848, 0.03333333333333333, 'gini = 0.5\\nsamples = 2\\nvalue = [1, 0, 1, 0]'),\n",
       " Text(0.7990867579908676, 0.03333333333333333, 'gini = 0.0\\nsamples = 1\\nvalue = [1, 0, 0, 0]'),\n",
       " Text(0.8017503805175038, 0.5666666666666667, 'x[1] <= 0.5\\ngini = 0.389\\nsamples = 34\\nvalue = [9, 0, 25, 0]'),\n",
       " Text(0.7987062404870624, 0.5, 'gini = 0.0\\nsamples = 12\\nvalue = [0, 0, 12, 0]'),\n",
       " Text(0.8047945205479452, 0.5, 'x[2] <= 2.5\\ngini = 0.483\\nsamples = 22\\nvalue = [9, 0, 13, 0]'),\n",
       " Text(0.7960426179604262, 0.43333333333333335, 'x[4] <= 0.5\\ngini = 0.245\\nsamples = 7\\nvalue = [1, 0, 6, 0]'),\n",
       " Text(0.7929984779299848, 0.36666666666666664, 'x[1] <= 1.5\\ngini = 0.444\\nsamples = 3\\nvalue = [1, 0, 2, 0]'),\n",
       " Text(0.7899543378995434, 0.3, 'gini = 0.5\\nsamples = 2\\nvalue = [1, 0, 1, 0]'),\n",
       " Text(0.7960426179604262, 0.3, 'gini = 0.0\\nsamples = 1\\nvalue = [0, 0, 1, 0]'),\n",
       " Text(0.7990867579908676, 0.36666666666666664, 'gini = 0.0\\nsamples = 4\\nvalue = [0, 0, 4, 0]'),\n",
       " Text(0.8135464231354642, 0.43333333333333335, 'x[2] <= 3.5\\ngini = 0.498\\nsamples = 15\\nvalue = [8, 0, 7, 0]'),\n",
       " Text(0.8051750380517504, 0.36666666666666664, 'x[1] <= 1.5\\ngini = 0.375\\nsamples = 4\\nvalue = [3, 0, 1, 0]'),\n",
       " Text(0.802130898021309, 0.3, 'gini = 0.5\\nsamples = 2\\nvalue = [1, 0, 1, 0]'),\n",
       " Text(0.8082191780821918, 0.3, 'gini = 0.0\\nsamples = 2\\nvalue = [2, 0, 0, 0]'),\n",
       " Text(0.821917808219178, 0.36666666666666664, 'x[1] <= 1.5\\ngini = 0.496\\nsamples = 11\\nvalue = [5, 0, 6, 0]'),\n",
       " Text(0.8143074581430746, 0.3, 'x[2] <= 4.5\\ngini = 0.5\\nsamples = 6\\nvalue = [3, 0, 3, 0]'),\n",
       " Text(0.8112633181126332, 0.23333333333333334, 'x[4] <= 0.5\\ngini = 0.5\\nsamples = 4\\nvalue = [2, 0, 2, 0]'),\n",
       " Text(0.8082191780821918, 0.16666666666666666, 'gini = 0.5\\nsamples = 2\\nvalue = [1, 0, 1, 0]'),\n",
       " Text(0.8143074581430746, 0.16666666666666666, 'gini = 0.5\\nsamples = 2\\nvalue = [1, 0, 1, 0]'),\n",
       " Text(0.817351598173516, 0.23333333333333334, 'gini = 0.5\\nsamples = 2\\nvalue = [1, 0, 1, 0]'),\n",
       " Text(0.8295281582952816, 0.3, 'x[2] <= 4.5\\ngini = 0.48\\nsamples = 5\\nvalue = [2, 0, 3, 0]'),\n",
       " Text(0.8234398782343988, 0.23333333333333334, 'x[4] <= 0.5\\ngini = 0.5\\nsamples = 2\\nvalue = [1, 0, 1, 0]'),\n",
       " Text(0.8203957382039574, 0.16666666666666666, 'gini = 0.0\\nsamples = 1\\nvalue = [0, 0, 1, 0]'),\n",
       " Text(0.8264840182648402, 0.16666666666666666, 'gini = 0.0\\nsamples = 1\\nvalue = [1, 0, 0, 0]'),\n",
       " Text(0.8356164383561644, 0.23333333333333334, 'x[4] <= 0.5\\ngini = 0.444\\nsamples = 3\\nvalue = [1, 0, 2, 0]'),\n",
       " Text(0.832572298325723, 0.16666666666666666, 'gini = 0.5\\nsamples = 2\\nvalue = [1, 0, 1, 0]'),\n",
       " Text(0.8386605783866058, 0.16666666666666666, 'gini = 0.0\\nsamples = 1\\nvalue = [0, 0, 1, 0]'),\n",
       " Text(0.8614916286149162, 0.6333333333333333, 'x[0] <= 0.5\\ngini = 0.273\\nsamples = 43\\nvalue = [7, 0, 36, 0]'),\n",
       " Text(0.8584474885844748, 0.5666666666666667, 'gini = 0.0\\nsamples = 12\\nvalue = [0, 0, 12, 0]'),\n",
       " Text(0.8645357686453576, 0.5666666666666667, 'x[0] <= 2.5\\ngini = 0.35\\nsamples = 31\\nvalue = [7, 0, 24, 0]'),\n",
       " Text(0.8614916286149162, 0.5, 'x[2] <= 2.5\\ngini = 0.465\\nsamples = 19\\nvalue = [7, 0, 12, 0]'),\n",
       " Text(0.8584474885844748, 0.43333333333333335, 'gini = 0.0\\nsamples = 4\\nvalue = [0, 0, 4, 0]'),\n",
       " Text(0.8645357686453576, 0.43333333333333335, 'x[4] <= 0.5\\ngini = 0.498\\nsamples = 15\\nvalue = [7, 0, 8, 0]'),\n",
       " Text(0.8569254185692542, 0.36666666666666664, 'x[2] <= 4.5\\ngini = 0.49\\nsamples = 7\\nvalue = [4, 0, 3, 0]'),\n",
       " Text(0.8538812785388128, 0.3, 'x[2] <= 3.5\\ngini = 0.5\\nsamples = 6\\nvalue = [3, 0, 3, 0]'),\n",
       " Text(0.84779299847793, 0.23333333333333334, 'x[0] <= 1.5\\ngini = 0.444\\nsamples = 3\\nvalue = [2, 0, 1, 0]'),\n",
       " Text(0.8447488584474886, 0.16666666666666666, 'gini = 0.0\\nsamples = 1\\nvalue = [1, 0, 0, 0]'),\n",
       " Text(0.8508371385083714, 0.16666666666666666, 'gini = 0.5\\nsamples = 2\\nvalue = [1, 0, 1, 0]'),\n",
       " Text(0.8599695585996956, 0.23333333333333334, 'x[0] <= 1.5\\ngini = 0.444\\nsamples = 3\\nvalue = [1, 0, 2, 0]'),\n",
       " Text(0.8569254185692542, 0.16666666666666666, 'gini = 0.0\\nsamples = 1\\nvalue = [0, 0, 1, 0]'),\n",
       " Text(0.863013698630137, 0.16666666666666666, 'gini = 0.5\\nsamples = 2\\nvalue = [1, 0, 1, 0]'),\n",
       " Text(0.8599695585996956, 0.3, 'gini = 0.0\\nsamples = 1\\nvalue = [1, 0, 0, 0]'),\n",
       " Text(0.8721461187214612, 0.36666666666666664, 'x[2] <= 4.5\\ngini = 0.469\\nsamples = 8\\nvalue = [3, 0, 5, 0]'),\n",
       " Text(0.8691019786910198, 0.3, 'x[0] <= 1.5\\ngini = 0.5\\nsamples = 6\\nvalue = [3, 0, 3, 0]'),\n",
       " Text(0.8660578386605784, 0.23333333333333334, 'gini = 0.5\\nsamples = 2\\nvalue = [1, 0, 1, 0]'),\n",
       " Text(0.8721461187214612, 0.23333333333333334, 'x[2] <= 3.5\\ngini = 0.5\\nsamples = 4\\nvalue = [2, 0, 2, 0]'),\n",
       " Text(0.8691019786910198, 0.16666666666666666, 'gini = 0.5\\nsamples = 2\\nvalue = [1, 0, 1, 0]'),\n",
       " Text(0.8751902587519026, 0.16666666666666666, 'gini = 0.5\\nsamples = 2\\nvalue = [1, 0, 1, 0]'),\n",
       " Text(0.8751902587519026, 0.3, 'gini = 0.0\\nsamples = 2\\nvalue = [0, 0, 2, 0]'),\n",
       " Text(0.867579908675799, 0.5, 'gini = 0.0\\nsamples = 12\\nvalue = [0, 0, 12, 0]'),\n",
       " Text(0.920662100456621, 0.7, 'x[1] <= 2.5\\ngini = 0.552\\nsamples = 94\\nvalue = [56, 12, 26, 0]'),\n",
       " Text(0.90220700152207, 0.6333333333333333, 'x[1] <= 0.5\\ngini = 0.518\\nsamples = 71\\nvalue = [46, 12, 13, 0]'),\n",
       " Text(0.8873668188736682, 0.5666666666666667, 'x[0] <= 2.5\\ngini = 0.49\\nsamples = 21\\nvalue = [12, 0, 9, 0]'),\n",
       " Text(0.8843226788432268, 0.5, 'x[4] <= 0.5\\ngini = 0.32\\nsamples = 15\\nvalue = [12, 0, 3, 0]'),\n",
       " Text(0.8812785388127854, 0.43333333333333335, 'gini = 0.0\\nsamples = 8\\nvalue = [8, 0, 0, 0]'),\n",
       " Text(0.8873668188736682, 0.43333333333333335, 'x[2] <= 3.5\\ngini = 0.49\\nsamples = 7\\nvalue = [4, 0, 3, 0]'),\n",
       " Text(0.8843226788432268, 0.36666666666666664, 'x[0] <= 1.5\\ngini = 0.375\\nsamples = 4\\nvalue = [1, 0, 3, 0]'),\n",
       " Text(0.8812785388127854, 0.3, 'x[0] <= 0.5\\ngini = 0.5\\nsamples = 2\\nvalue = [1, 0, 1, 0]'),\n",
       " Text(0.878234398782344, 0.23333333333333334, 'gini = 0.0\\nsamples = 1\\nvalue = [0, 0, 1, 0]'),\n",
       " Text(0.8843226788432268, 0.23333333333333334, 'gini = 0.0\\nsamples = 1\\nvalue = [1, 0, 0, 0]'),\n",
       " Text(0.8873668188736682, 0.3, 'gini = 0.0\\nsamples = 2\\nvalue = [0, 0, 2, 0]'),\n",
       " Text(0.8904109589041096, 0.36666666666666664, 'gini = 0.0\\nsamples = 3\\nvalue = [3, 0, 0, 0]'),\n",
       " Text(0.8904109589041096, 0.5, 'gini = 0.0\\nsamples = 6\\nvalue = [0, 0, 6, 0]'),\n",
       " Text(0.9170471841704718, 0.5666666666666667, 'x[0] <= 2.5\\ngini = 0.474\\nsamples = 50\\nvalue = [34, 12, 4, 0]'),\n",
       " Text(0.9071537290715372, 0.5, 'x[0] <= 0.5\\ngini = 0.505\\nsamples = 37\\nvalue = [23, 12, 2, 0]'),\n",
       " Text(0.8995433789954338, 0.43333333333333335, 'x[2] <= 3.5\\ngini = 0.298\\nsamples = 11\\nvalue = [9, 0, 2, 0]'),\n",
       " Text(0.8964992389649924, 0.36666666666666664, 'x[4] <= 0.5\\ngini = 0.48\\nsamples = 5\\nvalue = [3, 0, 2, 0]'),\n",
       " Text(0.893455098934551, 0.3, 'gini = 0.0\\nsamples = 3\\nvalue = [3, 0, 0, 0]'),\n",
       " Text(0.8995433789954338, 0.3, 'gini = 0.0\\nsamples = 2\\nvalue = [0, 0, 2, 0]'),\n",
       " Text(0.9025875190258752, 0.36666666666666664, 'gini = 0.0\\nsamples = 6\\nvalue = [6, 0, 0, 0]'),\n",
       " Text(0.9147640791476408, 0.43333333333333335, 'x[2] <= 3.5\\ngini = 0.497\\nsamples = 26\\nvalue = [14, 12, 0, 0]'),\n",
       " Text(0.908675799086758, 0.36666666666666664, 'x[4] <= 0.5\\ngini = 0.355\\nsamples = 13\\nvalue = [10, 3, 0, 0]'),\n",
       " Text(0.9056316590563166, 0.3, 'x[1] <= 1.5\\ngini = 0.48\\nsamples = 5\\nvalue = [2, 3, 0, 0]'),\n",
       " Text(0.9025875190258752, 0.23333333333333334, 'gini = 0.0\\nsamples = 2\\nvalue = [0, 2, 0, 0]'),\n",
       " Text(0.908675799086758, 0.23333333333333334, 'x[0] <= 1.5\\ngini = 0.444\\nsamples = 3\\nvalue = [2, 1, 0, 0]'),\n",
       " Text(0.9056316590563166, 0.16666666666666666, 'gini = 0.0\\nsamples = 1\\nvalue = [0, 1, 0, 0]'),\n",
       " Text(0.9117199391171994, 0.16666666666666666, 'gini = 0.0\\nsamples = 2\\nvalue = [2, 0, 0, 0]'),\n",
       " Text(0.9117199391171994, 0.3, 'gini = 0.0\\nsamples = 8\\nvalue = [8, 0, 0, 0]'),\n",
       " Text(0.9208523592085236, 0.36666666666666664, 'x[1] <= 1.5\\ngini = 0.426\\nsamples = 13\\nvalue = [4, 9, 0, 0]'),\n",
       " Text(0.9178082191780822, 0.3, 'gini = 0.0\\nsamples = 6\\nvalue = [0, 6, 0, 0]'),\n",
       " Text(0.923896499238965, 0.3, 'x[0] <= 1.5\\ngini = 0.49\\nsamples = 7\\nvalue = [4, 3, 0, 0]'),\n",
       " Text(0.9208523592085236, 0.23333333333333334, 'gini = 0.0\\nsamples = 3\\nvalue = [0, 3, 0, 0]'),\n",
       " Text(0.9269406392694064, 0.23333333333333334, 'gini = 0.0\\nsamples = 4\\nvalue = [4, 0, 0, 0]'),\n",
       " Text(0.9269406392694064, 0.5, 'x[4] <= 0.5\\ngini = 0.26\\nsamples = 13\\nvalue = [11, 0, 2, 0]'),\n",
       " Text(0.923896499238965, 0.43333333333333335, 'gini = 0.0\\nsamples = 8\\nvalue = [8, 0, 0, 0]'),\n",
       " Text(0.9299847792998478, 0.43333333333333335, 'x[2] <= 3.5\\ngini = 0.48\\nsamples = 5\\nvalue = [3, 0, 2, 0]'),\n",
       " Text(0.9269406392694064, 0.36666666666666664, 'gini = 0.0\\nsamples = 2\\nvalue = [0, 0, 2, 0]'),\n",
       " Text(0.9330289193302892, 0.36666666666666664, 'gini = 0.0\\nsamples = 3\\nvalue = [3, 0, 0, 0]'),\n",
       " Text(0.939117199391172, 0.6333333333333333, 'x[0] <= 0.5\\ngini = 0.491\\nsamples = 23\\nvalue = [10, 0, 13, 0]'),\n",
       " Text(0.9360730593607306, 0.5666666666666667, 'gini = 0.0\\nsamples = 5\\nvalue = [0, 0, 5, 0]'),\n",
       " Text(0.9421613394216134, 0.5666666666666667, 'x[0] <= 2.5\\ngini = 0.494\\nsamples = 18\\nvalue = [10, 0, 8, 0]'),\n",
       " Text(0.939117199391172, 0.5, 'x[4] <= 0.5\\ngini = 0.355\\nsamples = 13\\nvalue = [10, 0, 3, 0]'),\n",
       " Text(0.9360730593607306, 0.43333333333333335, 'gini = 0.0\\nsamples = 7\\nvalue = [7, 0, 0, 0]'),\n",
       " Text(0.9421613394216134, 0.43333333333333335, 'x[2] <= 3.5\\ngini = 0.5\\nsamples = 6\\nvalue = [3, 0, 3, 0]'),\n",
       " Text(0.939117199391172, 0.36666666666666664, 'gini = 0.0\\nsamples = 3\\nvalue = [0, 0, 3, 0]'),\n",
       " Text(0.9452054794520548, 0.36666666666666664, 'gini = 0.0\\nsamples = 3\\nvalue = [3, 0, 0, 0]'),\n",
       " Text(0.9452054794520548, 0.5, 'gini = 0.0\\nsamples = 5\\nvalue = [0, 0, 5, 0]'),\n",
       " Text(0.9754566210045662, 0.7666666666666667, 'x[0] <= 2.5\\ngini = 0.283\\nsamples = 135\\nvalue = [23, 0, 112, 0]'),\n",
       " Text(0.9724124809741248, 0.7, 'x[0] <= 0.5\\ngini = 0.367\\nsamples = 95\\nvalue = [23, 0, 72, 0]'),\n",
       " Text(0.9693683409436834, 0.6333333333333333, 'gini = 0.0\\nsamples = 33\\nvalue = [0, 0, 33, 0]'),\n",
       " Text(0.9754566210045662, 0.6333333333333333, 'x[1] <= 2.5\\ngini = 0.467\\nsamples = 62\\nvalue = [23, 0, 39, 0]'),\n",
       " Text(0.9724124809741248, 0.5666666666666667, 'x[3] <= 3.0\\ngini = 0.5\\nsamples = 45\\nvalue = [23, 0, 22, 0]'),\n",
       " Text(0.9592846270928462, 0.5, 'x[2] <= 2.5\\ngini = 0.436\\nsamples = 28\\nvalue = [9, 0, 19, 0]'),\n",
       " Text(0.9562404870624048, 0.43333333333333335, 'gini = 0.0\\nsamples = 6\\nvalue = [0, 0, 6, 0]'),\n",
       " Text(0.9623287671232876, 0.43333333333333335, 'x[1] <= 0.5\\ngini = 0.483\\nsamples = 22\\nvalue = [9, 0, 13, 0]'),\n",
       " Text(0.9512937595129376, 0.36666666666666664, 'x[0] <= 1.5\\ngini = 0.245\\nsamples = 7\\nvalue = [1, 0, 6, 0]'),\n",
       " Text(0.9482496194824962, 0.3, 'x[2] <= 4.5\\ngini = 0.444\\nsamples = 3\\nvalue = [1, 0, 2, 0]'),\n",
       " Text(0.9452054794520548, 0.23333333333333334, 'gini = 0.0\\nsamples = 1\\nvalue = [0, 0, 1, 0]'),\n",
       " Text(0.9512937595129376, 0.23333333333333334, 'gini = 0.5\\nsamples = 2\\nvalue = [1, 0, 1, 0]'),\n",
       " Text(0.954337899543379, 0.3, 'gini = 0.0\\nsamples = 4\\nvalue = [0, 0, 4, 0]'),\n",
       " Text(0.9733637747336378, 0.36666666666666664, 'x[0] <= 1.5\\ngini = 0.498\\nsamples = 15\\nvalue = [8, 0, 7, 0]'),\n",
       " Text(0.9604261796042618, 0.3, 'x[2] <= 3.5\\ngini = 0.444\\nsamples = 6\\nvalue = [4, 0, 2, 0]'),\n",
       " Text(0.9573820395738204, 0.23333333333333334, 'gini = 0.5\\nsamples = 2\\nvalue = [1, 0, 1, 0]'),\n",
       " Text(0.9634703196347032, 0.23333333333333334, 'x[1] <= 1.5\\ngini = 0.375\\nsamples = 4\\nvalue = [3, 0, 1, 0]'),\n",
       " Text(0.9604261796042618, 0.16666666666666666, 'gini = 0.5\\nsamples = 2\\nvalue = [1, 0, 1, 0]'),\n",
       " Text(0.9665144596651446, 0.16666666666666666, 'gini = 0.0\\nsamples = 2\\nvalue = [2, 0, 0, 0]'),\n",
       " Text(0.9863013698630136, 0.3, 'x[2] <= 4.5\\ngini = 0.494\\nsamples = 9\\nvalue = [4, 0, 5, 0]'),\n",
       " Text(0.9786910197869102, 0.23333333333333334, 'x[1] <= 1.5\\ngini = 0.48\\nsamples = 5\\nvalue = [2, 0, 3, 0]'),\n",
       " Text(0.9726027397260274, 0.16666666666666666, 'x[2] <= 3.5\\ngini = 0.5\\nsamples = 2\\nvalue = [1, 0, 1, 0]'),\n",
       " Text(0.969558599695586, 0.1, 'gini = 0.0\\nsamples = 1\\nvalue = [1, 0, 0, 0]'),\n",
       " Text(0.9756468797564688, 0.1, 'gini = 0.0\\nsamples = 1\\nvalue = [0, 0, 1, 0]'),\n",
       " Text(0.984779299847793, 0.16666666666666666, 'x[2] <= 3.5\\ngini = 0.444\\nsamples = 3\\nvalue = [1, 0, 2, 0]'),\n",
       " Text(0.9817351598173516, 0.1, 'gini = 0.0\\nsamples = 1\\nvalue = [0, 0, 1, 0]'),\n",
       " Text(0.9878234398782344, 0.1, 'gini = 0.5\\nsamples = 2\\nvalue = [1, 0, 1, 0]'),\n",
       " Text(0.9939117199391172, 0.23333333333333334, 'x[1] <= 1.5\\ngini = 0.5\\nsamples = 4\\nvalue = [2, 0, 2, 0]'),\n",
       " Text(0.9908675799086758, 0.16666666666666666, 'gini = 0.5\\nsamples = 2\\nvalue = [1, 0, 1, 0]'),\n",
       " Text(0.9969558599695586, 0.16666666666666666, 'gini = 0.5\\nsamples = 2\\nvalue = [1, 0, 1, 0]'),\n",
       " Text(0.9855403348554034, 0.5, 'x[1] <= 0.5\\ngini = 0.291\\nsamples = 17\\nvalue = [14, 0, 3, 0]'),\n",
       " Text(0.982496194824962, 0.43333333333333335, 'x[0] <= 1.5\\ngini = 0.49\\nsamples = 7\\nvalue = [4, 0, 3, 0]'),\n",
       " Text(0.9794520547945206, 0.36666666666666664, 'gini = 0.0\\nsamples = 4\\nvalue = [4, 0, 0, 0]'),\n",
       " Text(0.9855403348554034, 0.36666666666666664, 'gini = 0.0\\nsamples = 3\\nvalue = [0, 0, 3, 0]'),\n",
       " Text(0.9885844748858448, 0.43333333333333335, 'gini = 0.0\\nsamples = 10\\nvalue = [10, 0, 0, 0]'),\n",
       " Text(0.9785007610350076, 0.5666666666666667, 'gini = 0.0\\nsamples = 17\\nvalue = [0, 0, 17, 0]'),\n",
       " Text(0.9785007610350076, 0.7, 'gini = 0.0\\nsamples = 40\\nvalue = [0, 0, 40, 0]')]"
      ]
     },
     "execution_count": 127,
     "metadata": {},
     "output_type": "execute_result"
    },
    {
     "data": {
      "image/png": "[encoded data removed]",
      "text/plain": [
       "<Figure size 1200x400 with 1 Axes>"
      ]
     },
     "metadata": {},
     "output_type": "display_data"
    }
   ],
   "source": [
    "plt.figure(figsize=(12,4))\n",
    "from sklearn import tree\n",
    "tree.plot_tree(giniindex.fit(xtrain,ytrain))"
   ]
  },
  {
   "cell_type": "markdown",
   "id": "cb87ca5c",
   "metadata": {},
   "source": [
    "## logistic regression"
   ]
  },
  {
   "cell_type": "code",
   "execution_count": 130,
   "id": "99a7d3b9",
   "metadata": {},
   "outputs": [],
   "source": [
    "from sklearn.linear_model import LogisticRegression\n",
    "lr = LogisticRegression()"
   ]
  },
  {
   "cell_type": "code",
   "execution_count": 131,
   "id": "42951027",
   "metadata": {},
   "outputs": [
    {
     "name": "stderr",
     "output_type": "stream",
     "text": [
      "C:\\Users\\Gayatri\\anaconda3\\lib\\site-packages\\sklearn\\linear_model\\_logistic.py:458: ConvergenceWarning: lbfgs failed to converge (status=1):\n",
      "STOP: TOTAL NO. of ITERATIONS REACHED LIMIT.\n",
      "\n",
      "Increase the number of iterations (max_iter) or scale the data as shown in:\n",
      "    https://scikit-learn.org/stable/modules/preprocessing.html\n",
      "Please also refer to the documentation for alternative solver options:\n",
      "    https://scikit-learn.org/stable/modules/linear_model.html#logistic-regression\n",
      "  n_iter_i = _check_optimize_result(\n"
     ]
    },
    {
     "data": {
      "text/html": [
       "<style>#sk-container-id-2 {color: black;background-color: white;}#sk-container-id-2 pre{padding: 0;}#sk-container-id-2 div.sk-toggleable {background-color: white;}#sk-container-id-2 label.sk-toggleable__label {cursor: pointer;display: block;width: 100%;margin-bottom: 0;padding: 0.3em;box-sizing: border-box;text-align: center;}#sk-container-id-2 label.sk-toggleable__label-arrow:before {content: \"▸\";float: left;margin-right: 0.25em;color: #696969;}#sk-container-id-2 label.sk-toggleable__label-arrow:hover:before {color: black;}#sk-container-id-2 div.sk-estimator:hover label.sk-toggleable__label-arrow:before {color: black;}#sk-container-id-2 div.sk-toggleable__content {max-height: 0;max-width: 0;overflow: hidden;text-align: left;background-color: #f0f8ff;}#sk-container-id-2 div.sk-toggleable__content pre {margin: 0.2em;color: black;border-radius: 0.25em;background-color: #f0f8ff;}#sk-container-id-2 input.sk-toggleable__control:checked~div.sk-toggleable__content {max-height: 200px;max-width: 100%;overflow: auto;}#sk-container-id-2 input.sk-toggleable__control:checked~label.sk-toggleable__label-arrow:before {content: \"▾\";}#sk-container-id-2 div.sk-estimator input.sk-toggleable__control:checked~label.sk-toggleable__label {background-color: #d4ebff;}#sk-container-id-2 div.sk-label input.sk-toggleable__control:checked~label.sk-toggleable__label {background-color: #d4ebff;}#sk-container-id-2 input.sk-hidden--visually {border: 0;clip: rect(1px 1px 1px 1px);clip: rect(1px, 1px, 1px, 1px);height: 1px;margin: -1px;overflow: hidden;padding: 0;position: absolute;width: 1px;}#sk-container-id-2 div.sk-estimator {font-family: monospace;background-color: #f0f8ff;border: 1px dotted black;border-radius: 0.25em;box-sizing: border-box;margin-bottom: 0.5em;}#sk-container-id-2 div.sk-estimator:hover {background-color: #d4ebff;}#sk-container-id-2 div.sk-parallel-item::after {content: \"\";width: 100%;border-bottom: 1px solid gray;flex-grow: 1;}#sk-container-id-2 div.sk-label:hover label.sk-toggleable__label {background-color: #d4ebff;}#sk-container-id-2 div.sk-serial::before {content: \"\";position: absolute;border-left: 1px solid gray;box-sizing: border-box;top: 0;bottom: 0;left: 50%;z-index: 0;}#sk-container-id-2 div.sk-serial {display: flex;flex-direction: column;align-items: center;background-color: white;padding-right: 0.2em;padding-left: 0.2em;position: relative;}#sk-container-id-2 div.sk-item {position: relative;z-index: 1;}#sk-container-id-2 div.sk-parallel {display: flex;align-items: stretch;justify-content: center;background-color: white;position: relative;}#sk-container-id-2 div.sk-item::before, #sk-container-id-2 div.sk-parallel-item::before {content: \"\";position: absolute;border-left: 1px solid gray;box-sizing: border-box;top: 0;bottom: 0;left: 50%;z-index: -1;}#sk-container-id-2 div.sk-parallel-item {display: flex;flex-direction: column;z-index: 1;position: relative;background-color: white;}#sk-container-id-2 div.sk-parallel-item:first-child::after {align-self: flex-end;width: 50%;}#sk-container-id-2 div.sk-parallel-item:last-child::after {align-self: flex-start;width: 50%;}#sk-container-id-2 div.sk-parallel-item:only-child::after {width: 0;}#sk-container-id-2 div.sk-dashed-wrapped {border: 1px dashed gray;margin: 0 0.4em 0.5em 0.4em;box-sizing: border-box;padding-bottom: 0.4em;background-color: white;}#sk-container-id-2 div.sk-label label {font-family: monospace;font-weight: bold;display: inline-block;line-height: 1.2em;}#sk-container-id-2 div.sk-label-container {text-align: center;}#sk-container-id-2 div.sk-container {/* jupyter's `normalize.less` sets `[hidden] { display: none; }` but bootstrap.min.css set `[hidden] { display: none !important; }` so we also need the `!important` here to be able to override the default hidden behavior on the sphinx rendered scikit-learn.org. See: https://github.com/scikit-learn/scikit-learn/issues/21755 */display: inline-block !important;position: relative;}#sk-container-id-2 div.sk-text-repr-fallback {display: none;}</style><div id=\"sk-container-id-2\" class=\"sk-top-container\"><div class=\"sk-text-repr-fallback\"><pre>LogisticRegression()</pre><b>In a Jupyter environment, please rerun this cell to show the HTML representation or trust the notebook. <br />On GitHub, the HTML representation is unable to render, please try loading this page with nbviewer.org.</b></div><div class=\"sk-container\" hidden><div class=\"sk-item\"><div class=\"sk-estimator sk-toggleable\"><input class=\"sk-toggleable__control sk-hidden--visually\" id=\"sk-estimator-id-2\" type=\"checkbox\" checked><label for=\"sk-estimator-id-2\" class=\"sk-toggleable__label sk-toggleable__label-arrow\">LogisticRegression</label><div class=\"sk-toggleable__content\"><pre>LogisticRegression()</pre></div></div></div></div></div>"
      ],
      "text/plain": [
       "LogisticRegression()"
      ]
     },
     "execution_count": 131,
     "metadata": {},
     "output_type": "execute_result"
    }
   ],
   "source": [
    "lr.fit(xtrain,ytrain)"
   ]
  },
  {
   "cell_type": "code",
   "execution_count": 132,
   "id": "44f6e4d7",
   "metadata": {},
   "outputs": [],
   "source": [
    "ypred = lr.predict(xtest)"
   ]
  },
  {
   "cell_type": "code",
   "execution_count": 133,
   "id": "fd940459",
   "metadata": {},
   "outputs": [],
   "source": [
    "acc2 = accuracy_score(ytest, ypred)"
   ]
  },
  {
   "cell_type": "code",
   "execution_count": 134,
   "id": "0b73a67d",
   "metadata": {},
   "outputs": [
    {
     "data": {
      "text/plain": [
       "0.6859344894026975"
      ]
     },
     "execution_count": 134,
     "metadata": {},
     "output_type": "execute_result"
    }
   ],
   "source": [
    "acc2"
   ]
  },
  {
   "cell_type": "code",
   "execution_count": 135,
   "id": "8d56bcbb",
   "metadata": {},
   "outputs": [],
   "source": [
    "xpred = lr.predict(xtrain)"
   ]
  },
  {
   "cell_type": "code",
   "execution_count": 136,
   "id": "0c2c5392",
   "metadata": {},
   "outputs": [],
   "source": [
    "acc3 = accuracy_score(ytrain, xpred)"
   ]
  },
  {
   "cell_type": "code",
   "execution_count": 137,
   "id": "c70f17c5",
   "metadata": {},
   "outputs": [
    {
     "data": {
      "text/plain": [
       "0.7094370860927153"
      ]
     },
     "execution_count": 137,
     "metadata": {},
     "output_type": "execute_result"
    }
   ],
   "source": [
    "acc3"
   ]
  },
  {
   "cell_type": "code",
   "execution_count": 139,
   "id": "a4c418ab",
   "metadata": {},
   "outputs": [
    {
     "data": {
      "text/plain": [
       "array([[  8,   0, 109,   4],\n",
       "       [  0,   0,  20,   0],\n",
       "       [  7,   0, 348,   2],\n",
       "       [  2,   0,  19,   0]], dtype=int64)"
      ]
     },
     "execution_count": 139,
     "metadata": {},
     "output_type": "execute_result"
    }
   ],
   "source": [
    "from sklearn.metrics import confusion_matrix\n",
    "cm = confusion_matrix(ytest, ypred)\n",
    "cm"
   ]
  },
  {
   "cell_type": "code",
   "execution_count": 140,
   "id": "0c102ea1",
   "metadata": {},
   "outputs": [
    {
     "data": {
      "text/html": [
       "<div>\n",
       "<style scoped>\n",
       "    .dataframe tbody tr th:only-of-type {\n",
       "        vertical-align: middle;\n",
       "    }\n",
       "\n",
       "    .dataframe tbody tr th {\n",
       "        vertical-align: top;\n",
       "    }\n",
       "\n",
       "    .dataframe thead th {\n",
       "        text-align: right;\n",
       "    }\n",
       "</style>\n",
       "<table border=\"1\" class=\"dataframe\">\n",
       "  <thead>\n",
       "    <tr style=\"text-align: right;\">\n",
       "      <th></th>\n",
       "      <th>Actual</th>\n",
       "      <th>predict</th>\n",
       "    </tr>\n",
       "  </thead>\n",
       "  <tbody>\n",
       "    <tr>\n",
       "      <th>1190</th>\n",
       "      <td>2</td>\n",
       "      <td>2</td>\n",
       "    </tr>\n",
       "    <tr>\n",
       "      <th>503</th>\n",
       "      <td>2</td>\n",
       "      <td>2</td>\n",
       "    </tr>\n",
       "    <tr>\n",
       "      <th>1204</th>\n",
       "      <td>3</td>\n",
       "      <td>2</td>\n",
       "    </tr>\n",
       "    <tr>\n",
       "      <th>123</th>\n",
       "      <td>2</td>\n",
       "      <td>2</td>\n",
       "    </tr>\n",
       "    <tr>\n",
       "      <th>526</th>\n",
       "      <td>2</td>\n",
       "      <td>2</td>\n",
       "    </tr>\n",
       "    <tr>\n",
       "      <th>...</th>\n",
       "      <td>...</td>\n",
       "      <td>...</td>\n",
       "    </tr>\n",
       "    <tr>\n",
       "      <th>498</th>\n",
       "      <td>2</td>\n",
       "      <td>2</td>\n",
       "    </tr>\n",
       "    <tr>\n",
       "      <th>1497</th>\n",
       "      <td>0</td>\n",
       "      <td>2</td>\n",
       "    </tr>\n",
       "    <tr>\n",
       "      <th>70</th>\n",
       "      <td>2</td>\n",
       "      <td>2</td>\n",
       "    </tr>\n",
       "    <tr>\n",
       "      <th>367</th>\n",
       "      <td>0</td>\n",
       "      <td>2</td>\n",
       "    </tr>\n",
       "    <tr>\n",
       "      <th>886</th>\n",
       "      <td>0</td>\n",
       "      <td>2</td>\n",
       "    </tr>\n",
       "  </tbody>\n",
       "</table>\n",
       "<p>519 rows × 2 columns</p>\n",
       "</div>"
      ],
      "text/plain": [
       "      Actual  predict\n",
       "1190       2        2\n",
       "503        2        2\n",
       "1204       3        2\n",
       "123        2        2\n",
       "526        2        2\n",
       "...      ...      ...\n",
       "498        2        2\n",
       "1497       0        2\n",
       "70         2        2\n",
       "367        0        2\n",
       "886        0        2\n",
       "\n",
       "[519 rows x 2 columns]"
      ]
     },
     "execution_count": 140,
     "metadata": {},
     "output_type": "execute_result"
    }
   ],
   "source": [
    "dt = pd.DataFrame({\"Actual\": ytest, \"predict\": ypred})\n",
    "dt"
   ]
  },
  {
   "cell_type": "code",
   "execution_count": null,
   "id": "79182bdb",
   "metadata": {},
   "outputs": [],
   "source": []
  }
 ],
 "metadata": {
  "kernelspec": {
   "display_name": "Python 3 (ipykernel)",
   "language": "python",
   "name": "python3"
  },
  "language_info": {
   "codemirror_mode": {
    "name": "ipython",
    "version": 3
   },
   "file_extension": ".py",
   "mimetype": "text/x-python",
   "name": "python",
   "nbconvert_exporter": "python",
   "pygments_lexer": "ipython3",
   "version": "3.10.9"
  }
 },
 "nbformat": 4,
 "nbformat_minor": 5
}
